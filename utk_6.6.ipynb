{
  "nbformat": 4,
  "nbformat_minor": 0,
  "metadata": {
    "colab": {
      "provenance": [],
      "gpuType": "T4"
    },
    "kernelspec": {
      "name": "python3",
      "display_name": "Python 3"
    },
    "language_info": {
      "name": "python"
    },
    "accelerator": "GPU"
  },
  "cells": [
    {
      "cell_type": "code",
      "execution_count": 1,
      "metadata": {
        "id": "hFNnw51aEWeB"
      },
      "outputs": [],
      "source": [
        "import os\n",
        "import shutil"
      ]
    },
    {
      "cell_type": "code",
      "source": [
        "from google.colab import drive\n",
        "drive.mount('/content/drive')"
      ],
      "metadata": {
        "colab": {
          "base_uri": "https://localhost:8080/"
        },
        "id": "kUezd4lsEnT4",
        "outputId": "49b8a6fd-83fd-4b0e-9e02-afa8f152ab89"
      },
      "execution_count": 2,
      "outputs": [
        {
          "output_type": "stream",
          "name": "stdout",
          "text": [
            "Mounted at /content/drive\n"
          ]
        }
      ]
    },
    {
      "cell_type": "code",
      "source": [
        "import zipfile\n",
        "\n",
        "\n",
        "# Unzip the downloaded file\n",
        "zip_ref = zipfile.ZipFile(\"/content/drive/MyDrive/archive.zip\", \"r\")\n",
        "zip_ref.extractall()\n",
        "zip_ref.close()"
      ],
      "metadata": {
        "id": "GE8rSQZiEnzL"
      },
      "execution_count": 3,
      "outputs": []
    },
    {
      "cell_type": "code",
      "source": [
        "for dirpath, dirnames, filenames in os.walk(\"/content/UTKFace\"):\n",
        "  print(f\"There are {len(dirnames)} directories and {len(filenames)} images in '{dirpath}'.\")"
      ],
      "metadata": {
        "colab": {
          "base_uri": "https://localhost:8080/"
        },
        "id": "CG3PnWkmGWUm",
        "outputId": "9375ad22-786f-45f0-bf3f-5001fd1e42a4"
      },
      "execution_count": 4,
      "outputs": [
        {
          "output_type": "stream",
          "name": "stdout",
          "text": [
            "There are 0 directories and 23708 images in '/content/UTKFace'.\n"
          ]
        }
      ]
    },
    {
      "cell_type": "code",
      "source": [
        "for dirpath, dirnames, filenames in os.walk(\"/content/crop_part1\"):\n",
        "  print(f\"There are {len(dirnames)} directories and {len(filenames)} images in '{dirpath}'.\")"
      ],
      "metadata": {
        "colab": {
          "base_uri": "https://localhost:8080/"
        },
        "id": "1O-yU_QZGwMf",
        "outputId": "1ef832c3-d827-4104-ce67-91dc1a9b555e"
      },
      "execution_count": 5,
      "outputs": [
        {
          "output_type": "stream",
          "name": "stdout",
          "text": [
            "There are 0 directories and 9780 images in '/content/crop_part1'.\n"
          ]
        }
      ]
    },
    {
      "cell_type": "code",
      "source": [
        "import matplotlib.pyplot as plt\n",
        "import matplotlib.image as mpimg\n",
        "import random\n",
        "\n",
        "def view_random_image(target_dir):\n",
        "  # Setup target directory (we'll view images from here)\n",
        "  target_folder = target_dir\n",
        "\n",
        "  # Get a random image path\n",
        "  random_image = random.sample(os.listdir(target_folder), 4)\n",
        "\n",
        "  # Read in the image and plot it using matplotlib\n",
        "  fig, ax = plt.subplots(2,2)\n",
        "  for i in range(4):\n",
        "    img = mpimg.imread(target_folder + \"/\" + random_image[i])\n",
        "    if(i<=1):\n",
        "      ax[0][i].imshow(img)\n",
        "      ax[0][i].set_title(random_image[i].split('.')[0])\n",
        "      print(img.shape)\n",
        "    else:\n",
        "      ax[1][i-2].imshow(img)\n",
        "      ax[1][i-2].set_title(random_image[i].split('.')[0])\n",
        "      print(img.shape)"
      ],
      "metadata": {
        "id": "OXB26x8xGz_t"
      },
      "execution_count": 6,
      "outputs": []
    },
    {
      "cell_type": "code",
      "source": [
        "view_random_image('/content/UTKFace')"
      ],
      "metadata": {
        "colab": {
          "base_uri": "https://localhost:8080/",
          "height": 521
        },
        "id": "vNnQIvDvG-T8",
        "outputId": "c4462e26-f0c7-43eb-ebff-7933ccef8e9e"
      },
      "execution_count": 7,
      "outputs": [
        {
          "output_type": "stream",
          "name": "stdout",
          "text": [
            "(200, 200, 3)\n",
            "(200, 200, 3)\n",
            "(200, 200, 3)\n",
            "(200, 200, 3)\n"
          ]
        },
        {
          "output_type": "display_data",
          "data": {
            "text/plain": [
              "<Figure size 640x480 with 4 Axes>"
            ],
            "image/png": "[encoded data removed]"
          },
          "metadata": {}
        }
      ]
    },
    {
      "cell_type": "code",
      "source": [
        "image_paths = []\n",
        "age_labels = []\n",
        "gender_labels = []\n",
        "gender_age_labels = []\n",
        "\n",
        "for filename in os.listdir(\"/content/UTKFace\"):\n",
        "    image_path = os.path.join(\"/content/UTKFace\", filename)\n",
        "    temp = filename.split('_')\n",
        "    age = int(temp[0])\n",
        "    gender = int(temp[1])\n",
        "    image_paths.append(image_path)\n",
        "    age_labels.append(age)\n",
        "    gender_labels.append(gender)\n",
        "    gender_age_labels.append([gender, age])"
      ],
      "metadata": {
        "id": "vaXt4nFiHEar"
      },
      "execution_count": 8,
      "outputs": []
    },
    {
      "cell_type": "code",
      "source": [
        "image_paths[:2]"
      ],
      "metadata": {
        "colab": {
          "base_uri": "https://localhost:8080/"
        },
        "id": "mIdqTCAZIdiS",
        "outputId": "1ecd4921-9010-4e67-bb99-6bd0e4c95302"
      },
      "execution_count": 9,
      "outputs": [
        {
          "output_type": "execute_result",
          "data": {
            "text/plain": [
              "['/content/UTKFace/29_1_1_20170116231359922.jpg.chip.jpg',\n",
              " '/content/UTKFace/23_0_4_20170117194059597.jpg.chip.jpg']"
            ]
          },
          "metadata": {},
          "execution_count": 9
        }
      ]
    },
    {
      "cell_type": "code",
      "source": [
        "age_labels[:10]"
      ],
      "metadata": {
        "colab": {
          "base_uri": "https://localhost:8080/"
        },
        "id": "s2R29QubHWuU",
        "outputId": "cea08c84-8fe4-4323-fba2-cf2a3a791e0c"
      },
      "execution_count": 10,
      "outputs": [
        {
          "output_type": "execute_result",
          "data": {
            "text/plain": [
              "[29, 23, 29, 31, 16, 52, 66, 62, 20, 26]"
            ]
          },
          "metadata": {},
          "execution_count": 10
        }
      ]
    },
    {
      "cell_type": "code",
      "source": [
        "gender_labels[:10]"
      ],
      "metadata": {
        "colab": {
          "base_uri": "https://localhost:8080/"
        },
        "id": "dyA_KyIbHgvj",
        "outputId": "b48442de-02fe-4756-957f-998981066b7d"
      },
      "execution_count": 11,
      "outputs": [
        {
          "output_type": "execute_result",
          "data": {
            "text/plain": [
              "[1, 0, 0, 0, 1, 0, 0, 0, 1, 1]"
            ]
          },
          "metadata": {},
          "execution_count": 11
        }
      ]
    },
    {
      "cell_type": "code",
      "source": [
        "gender_age_labels[:10]"
      ],
      "metadata": {
        "colab": {
          "base_uri": "https://localhost:8080/"
        },
        "id": "-fj81rRIILqk",
        "outputId": "44ea5dab-8b15-44b4-c333-dfb67aa31d2c"
      },
      "execution_count": 12,
      "outputs": [
        {
          "output_type": "execute_result",
          "data": {
            "text/plain": [
              "[[1, 29],\n",
              " [0, 23],\n",
              " [0, 29],\n",
              " [0, 31],\n",
              " [1, 16],\n",
              " [0, 52],\n",
              " [0, 66],\n",
              " [0, 62],\n",
              " [1, 20],\n",
              " [1, 26]]"
            ]
          },
          "metadata": {},
          "execution_count": 12
        }
      ]
    },
    {
      "cell_type": "code",
      "source": [
        "import numpy as np"
      ],
      "metadata": {
        "id": "A2NTW2JeIPJF"
      },
      "execution_count": 13,
      "outputs": []
    },
    {
      "cell_type": "code",
      "source": [
        "def split_data(images, labels, train_size=0.6, validation_size=0.2, shuffle=True):\n",
        "    np.random.seed(42)\n",
        "    # 1. Get the total size of the dataset\n",
        "    size = len(images)\n",
        "    # 2. Make an indices array and shuffle it, if required\n",
        "    indices = np.arange(size)\n",
        "    if shuffle:\n",
        "        np.random.shuffle(indices)\n",
        "    # 3. Get the sizes of training, validation, and test samples\n",
        "    train_samples = int(size * train_size)\n",
        "    validation_samples = int(size * validation_size)\n",
        "    # 4. Split data into training, validation, and test sets\n",
        "    x_train, y_train = images[indices[:train_samples]], labels[indices[:train_samples]]\n",
        "    x_valid, y_valid = images[indices[train_samples:(train_samples + validation_samples)]], labels[indices[train_samples:(train_samples + validation_samples)]]\n",
        "    x_test, y_test = images[indices[(train_samples + validation_samples):]], labels[indices[(train_samples + validation_samples):]]\n",
        "    return x_train, x_valid, x_test, y_train, y_valid, y_test"
      ],
      "metadata": {
        "id": "EsE4ISn0Hl09"
      },
      "execution_count": 14,
      "outputs": []
    },
    {
      "cell_type": "code",
      "source": [
        "# Splitting data into training, validation, and test sets\n",
        "x_train, x_valid, x_test, y_train, y_valid, y_test = split_data(np.array(image_paths), np.array(gender_age_labels), train_size=0.6, validation_size=0.2)"
      ],
      "metadata": {
        "id": "ZSE5GsU8ISgX"
      },
      "execution_count": 15,
      "outputs": []
    },
    {
      "cell_type": "code",
      "source": [
        "import tensorflow as tf"
      ],
      "metadata": {
        "id": "btsp65psIswz"
      },
      "execution_count": 16,
      "outputs": []
    },
    {
      "cell_type": "code",
      "source": [
        "def preprocess_image(image, target_size=(200, 200)):\n",
        "    # Normalize pixel values to range [0, 1]\n",
        "    image = tf.cast(image, tf.float32) / 255.0\n",
        "\n",
        "    # Resize the image\n",
        "    image = tf.image.resize(image, target_size)\n",
        "\n",
        "    # Convert to grayscale\n",
        "    # image = tf.image.rgb_to_grayscale(image)\n",
        "\n",
        "    # Remove blurriness and noise using Gaussian blur\n",
        "    image = tf.image.random_brightness(image, max_delta=0.5)  # Adjust brightness\n",
        "    image = tf.image.random_contrast(image, lower=0.2, upper=1.8)  # Adjust contrast\n",
        "\n",
        "    return image\n",
        "\n",
        "def preprocess_data(image_path, gender_age_label):\n",
        "    image = tf.io.read_file(image_path)\n",
        "    image = tf.image.decode_jpeg(image, channels=3)\n",
        "    image = preprocess_image(image)\n",
        "    gender_label = gender_age_label[0]  # Extract gender label\n",
        "    age_label = gender_age_label[1]     # Extract age label\n",
        "    return image, (gender_label, age_label)\n",
        "\n",
        "\n",
        "# def load_and_preprocess_image(image_path, label):\n",
        "#     image = tf.io.read_file(image_path)\n",
        "#     image = tf.image.decode_jpeg(image, channels=3)  # Decode JPEG images\n",
        "#     image = preprocess_image(image)  # Preprocess the image\n",
        "#     return image, label"
      ],
      "metadata": {
        "id": "N5HtXjbiJMsf"
      },
      "execution_count": 20,
      "outputs": []
    },
    {
      "cell_type": "code",
      "source": [
        "\n",
        "batch_size = 32\n",
        "train_dataset = tf.data.Dataset.from_tensor_slices((x_train, y_train))\n",
        "train_dataset = (\n",
        "    train_dataset.map(preprocess_data, num_parallel_calls=tf.data.AUTOTUNE)\n",
        "    .batch(batch_size)\n",
        "    .prefetch(buffer_size=tf.data.AUTOTUNE)\n",
        ")\n",
        "\n",
        "validation_dataset = tf.data.Dataset.from_tensor_slices((x_valid, y_valid))\n",
        "validation_dataset = (\n",
        "    validation_dataset.map(preprocess_data, num_parallel_calls=tf.data.AUTOTUNE)\n",
        "    .batch(batch_size)\n",
        "    .prefetch(buffer_size=tf.data.AUTOTUNE)\n",
        ")\n",
        "\n",
        "test_dataset = tf.data.Dataset.from_tensor_slices((x_test, y_test))\n",
        "test_dataset = (\n",
        "    test_dataset.map(preprocess_data, num_parallel_calls=tf.data.AUTOTUNE)\n",
        "    .batch(batch_size)\n",
        "    .prefetch(buffer_size=tf.data.AUTOTUNE)\n",
        ")"
      ],
      "metadata": {
        "id": "RNQkq5NDIo9c"
      },
      "execution_count": 21,
      "outputs": []
    },
    {
      "cell_type": "code",
      "source": [
        "# Setup base model and freeze its layers (this will extract features)\n",
        "base_model = tf.keras.applications.efficientnet.EfficientNetB7(include_top=False)\n",
        "base_model.trainable = False"
      ],
      "metadata": {
        "id": "NvlvAqTcCmiP"
      },
      "execution_count": 24,
      "outputs": []
    },
    {
      "cell_type": "code",
      "source": [],
      "metadata": {
        "id": "H-A_bR6SC3U_"
      },
      "execution_count": 23,
      "outputs": []
    },
    {
      "cell_type": "code",
      "source": [
        "from tensorflow.keras.initializers import glorot_uniform\n",
        "from tensorflow.keras.layers import Dropout, Input, Dense, Activation, BatchNormalization, Flatten, Conv2D, MaxPooling2D\n",
        "from tensorflow.keras.models import Model\n",
        "\n",
        "input_size = (200, 200, 3)\n",
        "inputs = Input(shape=input_size)\n",
        "X = base_model(inputs,training=False)\n",
        "X = Conv2D(64, (3, 3), activation='relu', kernel_initializer=glorot_uniform(seed=0))(inputs)\n",
        "X = BatchNormalization(axis=3)(X)\n",
        "X = MaxPooling2D((3, 3))(X)\n",
        "\n",
        "X = Conv2D(128, (3, 3), activation='relu')(X)\n",
        "X = MaxPooling2D((2, 2), strides=(2, 2))(X)\n",
        "\n",
        "X = Conv2D(256, (3, 3), activation='relu')(X)\n",
        "X = MaxPooling2D((2, 2))(X)\n",
        "\n",
        "X = Flatten()(X)\n",
        "\n",
        "dense_1 = Dense(256, activation='relu')(X)\n",
        "dense_2 = Dense(256, activation='relu')(X)\n",
        "dense_3 = Dense(128, activation='relu')(dense_2)\n",
        "dropout_1 = Dropout(0.4)(dense_1)\n",
        "dropout_2 = Dropout(0.4)(dense_3)\n",
        "\n",
        "# Gender output\n",
        "output_gender = Dense(1, activation='sigmoid', name='gender_output')(dropout_1)\n",
        "\n",
        "# Age output\n",
        "output_age = Dense(1, activation='linear', name='age_output')(dropout_2)\n",
        "\n",
        "model = Model(inputs=[inputs], outputs=[output_gender, output_age])\n"
      ],
      "metadata": {
        "id": "Gi7xzxuTLSfZ"
      },
      "execution_count": 25,
      "outputs": []
    },
    {
      "cell_type": "code",
      "source": [
        "model.compile(loss=['binary_crossentropy','mae'], optimizer='adam', metrics=['accuracy'])"
      ],
      "metadata": {
        "id": "C5WX8-cFJpMa"
      },
      "execution_count": 26,
      "outputs": []
    },
    {
      "cell_type": "code",
      "source": [
        "from tensorflow.keras.callbacks import ModelCheckpoint\n",
        "filepath = \"drive/MyDrive/model_3_weights.h5\"\n",
        "checkpoint_callback = ModelCheckpoint(\n",
        "    filepath=filepath,\n",
        "    monitor='val_age_output_loss',\n",
        "    save_best_only=True,\n",
        "    save_weights_only=True,\n",
        "    verbose=1\n",
        ")"
      ],
      "metadata": {
        "id": "Ps0xT4A6X_3_"
      },
      "execution_count": 27,
      "outputs": []
    },
    {
      "cell_type": "code",
      "source": [
        "history = model.fit(train_dataset, batch_size = 32, epochs=15, validation_data = validation_dataset, callbacks=[checkpoint_callback])"
      ],
      "metadata": {
        "colab": {
          "base_uri": "https://localhost:8080/"
        },
        "id": "chsfq0SbKEKt",
        "outputId": "c7d0f17c-4dfb-4513-cfbc-b32eae3aefe8"
      },
      "execution_count": 28,
      "outputs": [
        {
          "output_type": "stream",
          "name": "stdout",
          "text": [
            "Epoch 1/15\n",
            "445/445 [==============================] - ETA: 0s - loss: 16.6046 - gender_output_loss: 0.6735 - age_output_loss: 15.9311 - gender_output_accuracy: 0.6585 - age_output_accuracy: 0.0461\n",
            "Epoch 1: val_age_output_loss improved from inf to 18.03155, saving model to drive/MyDrive/model_3_weights.h5\n",
            "445/445 [==============================] - 48s 87ms/step - loss: 16.6046 - gender_output_loss: 0.6735 - age_output_loss: 15.9311 - gender_output_accuracy: 0.6585 - age_output_accuracy: 0.0461 - val_loss: 18.5907 - val_gender_output_loss: 0.5591 - val_age_output_loss: 18.0315 - val_gender_output_accuracy: 0.7585 - val_age_output_accuracy: 0.0430\n",
            "Epoch 2/15\n",
            "444/445 [============================>.] - ETA: 0s - loss: 13.0142 - gender_output_loss: 0.4937 - age_output_loss: 12.5205 - gender_output_accuracy: 0.7457 - age_output_accuracy: 0.0395\n",
            "Epoch 2: val_age_output_loss improved from 18.03155 to 10.72436, saving model to drive/MyDrive/model_3_weights.h5\n",
            "445/445 [==============================] - 41s 91ms/step - loss: 13.0121 - gender_output_loss: 0.4938 - age_output_loss: 12.5183 - gender_output_accuracy: 0.7457 - age_output_accuracy: 0.0397 - val_loss: 11.1623 - val_gender_output_loss: 0.4379 - val_age_output_loss: 10.7244 - val_gender_output_accuracy: 0.7950 - val_age_output_accuracy: 0.0262\n",
            "Epoch 3/15\n",
            "444/445 [============================>.] - ETA: 0s - loss: 11.7131 - gender_output_loss: 0.4343 - age_output_loss: 11.2788 - gender_output_accuracy: 0.7819 - age_output_accuracy: 0.0379\n",
            "Epoch 3: val_age_output_loss improved from 10.72436 to 9.69393, saving model to drive/MyDrive/model_3_weights.h5\n",
            "445/445 [==============================] - 42s 93ms/step - loss: 11.7132 - gender_output_loss: 0.4343 - age_output_loss: 11.2789 - gender_output_accuracy: 0.7820 - age_output_accuracy: 0.0380 - val_loss: 10.0906 - val_gender_output_loss: 0.3967 - val_age_output_loss: 9.6939 - val_gender_output_accuracy: 0.8192 - val_age_output_accuracy: 0.0281\n",
            "Epoch 4/15\n",
            "444/445 [============================>.] - ETA: 0s - loss: 10.6159 - gender_output_loss: 0.3940 - age_output_loss: 10.2219 - gender_output_accuracy: 0.8060 - age_output_accuracy: 0.0364\n",
            "Epoch 4: val_age_output_loss did not improve from 9.69393\n",
            "445/445 [==============================] - 36s 80ms/step - loss: 10.6131 - gender_output_loss: 0.3943 - age_output_loss: 10.2187 - gender_output_accuracy: 0.8059 - age_output_accuracy: 0.0366 - val_loss: 11.2377 - val_gender_output_loss: 0.4077 - val_age_output_loss: 10.8300 - val_gender_output_accuracy: 0.8213 - val_age_output_accuracy: 0.0411\n",
            "Epoch 5/15\n",
            "444/445 [============================>.] - ETA: 0s - loss: 10.2237 - gender_output_loss: 0.3690 - age_output_loss: 9.8547 - gender_output_accuracy: 0.8157 - age_output_accuracy: 0.0374\n",
            "Epoch 5: val_age_output_loss did not improve from 9.69393\n",
            "445/445 [==============================] - 36s 80ms/step - loss: 10.2224 - gender_output_loss: 0.3690 - age_output_loss: 9.8534 - gender_output_accuracy: 0.8158 - age_output_accuracy: 0.0375 - val_loss: 10.1834 - val_gender_output_loss: 0.3648 - val_age_output_loss: 9.8186 - val_gender_output_accuracy: 0.8317 - val_age_output_accuracy: 0.0432\n",
            "Epoch 6/15\n",
            "444/445 [============================>.] - ETA: 0s - loss: 9.7630 - gender_output_loss: 0.3495 - age_output_loss: 9.4135 - gender_output_accuracy: 0.8219 - age_output_accuracy: 0.0370\n",
            "Epoch 6: val_age_output_loss improved from 9.69393 to 8.72905, saving model to drive/MyDrive/model_3_weights.h5\n",
            "445/445 [==============================] - 38s 85ms/step - loss: 9.7597 - gender_output_loss: 0.3495 - age_output_loss: 9.4103 - gender_output_accuracy: 0.8219 - age_output_accuracy: 0.0371 - val_loss: 9.0920 - val_gender_output_loss: 0.3629 - val_age_output_loss: 8.7290 - val_gender_output_accuracy: 0.8344 - val_age_output_accuracy: 0.0445\n",
            "Epoch 7/15\n",
            "444/445 [============================>.] - ETA: 0s - loss: 9.3028 - gender_output_loss: 0.3365 - age_output_loss: 8.9663 - gender_output_accuracy: 0.8276 - age_output_accuracy: 0.0383\n",
            "Epoch 7: val_age_output_loss did not improve from 8.72905\n",
            "445/445 [==============================] - 35s 80ms/step - loss: 9.3010 - gender_output_loss: 0.3365 - age_output_loss: 8.9646 - gender_output_accuracy: 0.8278 - age_output_accuracy: 0.0384 - val_loss: 9.1516 - val_gender_output_loss: 0.3373 - val_age_output_loss: 8.8143 - val_gender_output_accuracy: 0.8450 - val_age_output_accuracy: 0.0384\n",
            "Epoch 8/15\n",
            "444/445 [============================>.] - ETA: 0s - loss: 9.1136 - gender_output_loss: 0.3246 - age_output_loss: 8.7890 - gender_output_accuracy: 0.8331 - age_output_accuracy: 0.0385\n",
            "Epoch 8: val_age_output_loss improved from 8.72905 to 7.93530, saving model to drive/MyDrive/model_3_weights.h5\n",
            "445/445 [==============================] - 37s 83ms/step - loss: 9.1103 - gender_output_loss: 0.3246 - age_output_loss: 8.7857 - gender_output_accuracy: 0.8331 - age_output_accuracy: 0.0386 - val_loss: 8.2631 - val_gender_output_loss: 0.3278 - val_age_output_loss: 7.9353 - val_gender_output_accuracy: 0.8500 - val_age_output_accuracy: 0.0224\n",
            "Epoch 9/15\n",
            "444/445 [============================>.] - ETA: 0s - loss: 9.1035 - gender_output_loss: 0.3331 - age_output_loss: 8.7704 - gender_output_accuracy: 0.8307 - age_output_accuracy: 0.0372\n",
            "Epoch 9: val_age_output_loss did not improve from 7.93530\n",
            "445/445 [==============================] - 38s 85ms/step - loss: 9.1023 - gender_output_loss: 0.3330 - age_output_loss: 8.7692 - gender_output_accuracy: 0.8306 - age_output_accuracy: 0.0374 - val_loss: 8.7718 - val_gender_output_loss: 0.3234 - val_age_output_loss: 8.4484 - val_gender_output_accuracy: 0.8559 - val_age_output_accuracy: 0.0445\n",
            "Epoch 10/15\n",
            "444/445 [============================>.] - ETA: 0s - loss: 8.9076 - gender_output_loss: 0.3204 - age_output_loss: 8.5872 - gender_output_accuracy: 0.8426 - age_output_accuracy: 0.0381\n",
            "Epoch 10: val_age_output_loss did not improve from 7.93530\n",
            "445/445 [==============================] - 35s 79ms/step - loss: 8.9077 - gender_output_loss: 0.3206 - age_output_loss: 8.5872 - gender_output_accuracy: 0.8424 - age_output_accuracy: 0.0383 - val_loss: 15.8199 - val_gender_output_loss: 0.4200 - val_age_output_loss: 15.3998 - val_gender_output_accuracy: 0.7796 - val_age_output_accuracy: 0.0443\n",
            "Epoch 11/15\n",
            "444/445 [============================>.] - ETA: 0s - loss: 8.5703 - gender_output_loss: 0.3188 - age_output_loss: 8.2515 - gender_output_accuracy: 0.8400 - age_output_accuracy: 0.0429\n",
            "Epoch 11: val_age_output_loss did not improve from 7.93530\n",
            "445/445 [==============================] - 36s 80ms/step - loss: 8.5673 - gender_output_loss: 0.3187 - age_output_loss: 8.2486 - gender_output_accuracy: 0.8399 - age_output_accuracy: 0.0430 - val_loss: 8.3755 - val_gender_output_loss: 0.3250 - val_age_output_loss: 8.0505 - val_gender_output_accuracy: 0.8498 - val_age_output_accuracy: 0.0386\n",
            "Epoch 12/15\n",
            "444/445 [============================>.] - ETA: 0s - loss: 8.3242 - gender_output_loss: 0.3095 - age_output_loss: 8.0147 - gender_output_accuracy: 0.8459 - age_output_accuracy: 0.0441\n",
            "Epoch 12: val_age_output_loss did not improve from 7.93530\n",
            "445/445 [==============================] - 35s 79ms/step - loss: 8.3250 - gender_output_loss: 0.3094 - age_output_loss: 8.0156 - gender_output_accuracy: 0.8459 - age_output_accuracy: 0.0442 - val_loss: 9.0034 - val_gender_output_loss: 0.3318 - val_age_output_loss: 8.6716 - val_gender_output_accuracy: 0.8572 - val_age_output_accuracy: 0.0443\n",
            "Epoch 13/15\n",
            "444/445 [============================>.] - ETA: 0s - loss: 8.1825 - gender_output_loss: 0.2998 - age_output_loss: 7.8827 - gender_output_accuracy: 0.8537 - age_output_accuracy: 0.0453\n",
            "Epoch 13: val_age_output_loss did not improve from 7.93530\n",
            "445/445 [==============================] - 38s 86ms/step - loss: 8.1833 - gender_output_loss: 0.2997 - age_output_loss: 7.8836 - gender_output_accuracy: 0.8537 - age_output_accuracy: 0.0455 - val_loss: 9.9355 - val_gender_output_loss: 0.3196 - val_age_output_loss: 9.6159 - val_gender_output_accuracy: 0.8597 - val_age_output_accuracy: 0.0435\n",
            "Epoch 14/15\n",
            "444/445 [============================>.] - ETA: 0s - loss: 7.9704 - gender_output_loss: 0.2948 - age_output_loss: 7.6756 - gender_output_accuracy: 0.8532 - age_output_accuracy: 0.0460\n",
            "Epoch 14: val_age_output_loss improved from 7.93530 to 7.66752, saving model to drive/MyDrive/model_3_weights.h5\n",
            "445/445 [==============================] - 37s 84ms/step - loss: 7.9674 - gender_output_loss: 0.2948 - age_output_loss: 7.6726 - gender_output_accuracy: 0.8531 - age_output_accuracy: 0.0462 - val_loss: 7.9829 - val_gender_output_loss: 0.3154 - val_age_output_loss: 7.6675 - val_gender_output_accuracy: 0.8583 - val_age_output_accuracy: 0.0443\n",
            "Epoch 15/15\n",
            "444/445 [============================>.] - ETA: 0s - loss: 7.8073 - gender_output_loss: 0.2874 - age_output_loss: 7.5199 - gender_output_accuracy: 0.8571 - age_output_accuracy: 0.0457\n",
            "Epoch 15: val_age_output_loss did not improve from 7.66752\n",
            "445/445 [==============================] - 36s 82ms/step - loss: 7.8061 - gender_output_loss: 0.2875 - age_output_loss: 7.5187 - gender_output_accuracy: 0.8570 - age_output_accuracy: 0.0459 - val_loss: 8.5463 - val_gender_output_loss: 0.3164 - val_age_output_loss: 8.2299 - val_gender_output_accuracy: 0.8555 - val_age_output_accuracy: 0.0416\n"
          ]
        }
      ]
    },
    {
      "cell_type": "code",
      "source": [
        "# Unfreeze all of the layers in the base model\n",
        "base_model.trainable = True\n",
        "\n",
        "# Refreeze every layer except for the last 5\n",
        "for layer in base_model.layers[:-5]:\n",
        "  layer.trainable = False"
      ],
      "metadata": {
        "id": "rljcAQQwDb5-"
      },
      "execution_count": 29,
      "outputs": []
    },
    {
      "cell_type": "code",
      "source": [
        "model.compile(loss=['binary_crossentropy','mae'], optimizer=tf.keras.optimizers.Adam(1e-4), metrics=['accuracy'])"
      ],
      "metadata": {
        "id": "Q8dFEtHhDbnm"
      },
      "execution_count": 30,
      "outputs": []
    },
    {
      "cell_type": "code",
      "source": [
        "# What layers in the model are trainable?\n",
        "for layer in model.layers:\n",
        "  print(layer.name, layer.trainable)"
      ],
      "metadata": {
        "colab": {
          "base_uri": "https://localhost:8080/"
        },
        "id": "IrD0NsJ5DmSh",
        "outputId": "82702b19-42e4-4488-8dec-8eabed5d8dc6"
      },
      "execution_count": 31,
      "outputs": [
        {
          "output_type": "stream",
          "name": "stdout",
          "text": [
            "input_3 True\n",
            "conv2d True\n",
            "batch_normalization True\n",
            "max_pooling2d True\n",
            "conv2d_1 True\n",
            "max_pooling2d_1 True\n",
            "conv2d_2 True\n",
            "max_pooling2d_2 True\n",
            "flatten True\n",
            "dense_1 True\n",
            "dense True\n",
            "dense_2 True\n",
            "dropout True\n",
            "dropout_1 True\n",
            "gender_output True\n",
            "age_output True\n"
          ]
        }
      ]
    },
    {
      "cell_type": "code",
      "source": [
        "# Check which layers are trainable\n",
        "for layer_number, layer in enumerate(base_model.layers):\n",
        "  print(layer_number, layer.name, layer.trainable)"
      ],
      "metadata": {
        "colab": {
          "base_uri": "https://localhost:8080/"
        },
        "id": "gidY1Js0DmXY",
        "outputId": "f21de92f-c6aa-47d0-f2c0-4657a0c7c693"
      },
      "execution_count": 32,
      "outputs": [
        {
          "output_type": "stream",
          "name": "stdout",
          "text": [
            "0 input_2 False\n",
            "1 rescaling_2 False\n",
            "2 normalization_1 False\n",
            "3 rescaling_3 False\n",
            "4 stem_conv_pad False\n",
            "5 stem_conv False\n",
            "6 stem_bn False\n",
            "7 stem_activation False\n",
            "8 block1a_dwconv False\n",
            "9 block1a_bn False\n",
            "10 block1a_activation False\n",
            "11 block1a_se_squeeze False\n",
            "12 block1a_se_reshape False\n",
            "13 block1a_se_reduce False\n",
            "14 block1a_se_expand False\n",
            "15 block1a_se_excite False\n",
            "16 block1a_project_conv False\n",
            "17 block1a_project_bn False\n",
            "18 block1b_dwconv False\n",
            "19 block1b_bn False\n",
            "20 block1b_activation False\n",
            "21 block1b_se_squeeze False\n",
            "22 block1b_se_reshape False\n",
            "23 block1b_se_reduce False\n",
            "24 block1b_se_expand False\n",
            "25 block1b_se_excite False\n",
            "26 block1b_project_conv False\n",
            "27 block1b_project_bn False\n",
            "28 block1b_drop False\n",
            "29 block1b_add False\n",
            "30 block1c_dwconv False\n",
            "31 block1c_bn False\n",
            "32 block1c_activation False\n",
            "33 block1c_se_squeeze False\n",
            "34 block1c_se_reshape False\n",
            "35 block1c_se_reduce False\n",
            "36 block1c_se_expand False\n",
            "37 block1c_se_excite False\n",
            "38 block1c_project_conv False\n",
            "39 block1c_project_bn False\n",
            "40 block1c_drop False\n",
            "41 block1c_add False\n",
            "42 block1d_dwconv False\n",
            "43 block1d_bn False\n",
            "44 block1d_activation False\n",
            "45 block1d_se_squeeze False\n",
            "46 block1d_se_reshape False\n",
            "47 block1d_se_reduce False\n",
            "48 block1d_se_expand False\n",
            "49 block1d_se_excite False\n",
            "50 block1d_project_conv False\n",
            "51 block1d_project_bn False\n",
            "52 block1d_drop False\n",
            "53 block1d_add False\n",
            "54 block2a_expand_conv False\n",
            "55 block2a_expand_bn False\n",
            "56 block2a_expand_activation False\n",
            "57 block2a_dwconv_pad False\n",
            "58 block2a_dwconv False\n",
            "59 block2a_bn False\n",
            "60 block2a_activation False\n",
            "61 block2a_se_squeeze False\n",
            "62 block2a_se_reshape False\n",
            "63 block2a_se_reduce False\n",
            "64 block2a_se_expand False\n",
            "65 block2a_se_excite False\n",
            "66 block2a_project_conv False\n",
            "67 block2a_project_bn False\n",
            "68 block2b_expand_conv False\n",
            "69 block2b_expand_bn False\n",
            "70 block2b_expand_activation False\n",
            "71 block2b_dwconv False\n",
            "72 block2b_bn False\n",
            "73 block2b_activation False\n",
            "74 block2b_se_squeeze False\n",
            "75 block2b_se_reshape False\n",
            "76 block2b_se_reduce False\n",
            "77 block2b_se_expand False\n",
            "78 block2b_se_excite False\n",
            "79 block2b_project_conv False\n",
            "80 block2b_project_bn False\n",
            "81 block2b_drop False\n",
            "82 block2b_add False\n",
            "83 block2c_expand_conv False\n",
            "84 block2c_expand_bn False\n",
            "85 block2c_expand_activation False\n",
            "86 block2c_dwconv False\n",
            "87 block2c_bn False\n",
            "88 block2c_activation False\n",
            "89 block2c_se_squeeze False\n",
            "90 block2c_se_reshape False\n",
            "91 block2c_se_reduce False\n",
            "92 block2c_se_expand False\n",
            "93 block2c_se_excite False\n",
            "94 block2c_project_conv False\n",
            "95 block2c_project_bn False\n",
            "96 block2c_drop False\n",
            "97 block2c_add False\n",
            "98 block2d_expand_conv False\n",
            "99 block2d_expand_bn False\n",
            "100 block2d_expand_activation False\n",
            "101 block2d_dwconv False\n",
            "102 block2d_bn False\n",
            "103 block2d_activation False\n",
            "104 block2d_se_squeeze False\n",
            "105 block2d_se_reshape False\n",
            "106 block2d_se_reduce False\n",
            "107 block2d_se_expand False\n",
            "108 block2d_se_excite False\n",
            "109 block2d_project_conv False\n",
            "110 block2d_project_bn False\n",
            "111 block2d_drop False\n",
            "112 block2d_add False\n",
            "113 block2e_expand_conv False\n",
            "114 block2e_expand_bn False\n",
            "115 block2e_expand_activation False\n",
            "116 block2e_dwconv False\n",
            "117 block2e_bn False\n",
            "118 block2e_activation False\n",
            "119 block2e_se_squeeze False\n",
            "120 block2e_se_reshape False\n",
            "121 block2e_se_reduce False\n",
            "122 block2e_se_expand False\n",
            "123 block2e_se_excite False\n",
            "124 block2e_project_conv False\n",
            "125 block2e_project_bn False\n",
            "126 block2e_drop False\n",
            "127 block2e_add False\n",
            "128 block2f_expand_conv False\n",
            "129 block2f_expand_bn False\n",
            "130 block2f_expand_activation False\n",
            "131 block2f_dwconv False\n",
            "132 block2f_bn False\n",
            "133 block2f_activation False\n",
            "134 block2f_se_squeeze False\n",
            "135 block2f_se_reshape False\n",
            "136 block2f_se_reduce False\n",
            "137 block2f_se_expand False\n",
            "138 block2f_se_excite False\n",
            "139 block2f_project_conv False\n",
            "140 block2f_project_bn False\n",
            "141 block2f_drop False\n",
            "142 block2f_add False\n",
            "143 block2g_expand_conv False\n",
            "144 block2g_expand_bn False\n",
            "145 block2g_expand_activation False\n",
            "146 block2g_dwconv False\n",
            "147 block2g_bn False\n",
            "148 block2g_activation False\n",
            "149 block2g_se_squeeze False\n",
            "150 block2g_se_reshape False\n",
            "151 block2g_se_reduce False\n",
            "152 block2g_se_expand False\n",
            "153 block2g_se_excite False\n",
            "154 block2g_project_conv False\n",
            "155 block2g_project_bn False\n",
            "156 block2g_drop False\n",
            "157 block2g_add False\n",
            "158 block3a_expand_conv False\n",
            "159 block3a_expand_bn False\n",
            "160 block3a_expand_activation False\n",
            "161 block3a_dwconv_pad False\n",
            "162 block3a_dwconv False\n",
            "163 block3a_bn False\n",
            "164 block3a_activation False\n",
            "165 block3a_se_squeeze False\n",
            "166 block3a_se_reshape False\n",
            "167 block3a_se_reduce False\n",
            "168 block3a_se_expand False\n",
            "169 block3a_se_excite False\n",
            "170 block3a_project_conv False\n",
            "171 block3a_project_bn False\n",
            "172 block3b_expand_conv False\n",
            "173 block3b_expand_bn False\n",
            "174 block3b_expand_activation False\n",
            "175 block3b_dwconv False\n",
            "176 block3b_bn False\n",
            "177 block3b_activation False\n",
            "178 block3b_se_squeeze False\n",
            "179 block3b_se_reshape False\n",
            "180 block3b_se_reduce False\n",
            "181 block3b_se_expand False\n",
            "182 block3b_se_excite False\n",
            "183 block3b_project_conv False\n",
            "184 block3b_project_bn False\n",
            "185 block3b_drop False\n",
            "186 block3b_add False\n",
            "187 block3c_expand_conv False\n",
            "188 block3c_expand_bn False\n",
            "189 block3c_expand_activation False\n",
            "190 block3c_dwconv False\n",
            "191 block3c_bn False\n",
            "192 block3c_activation False\n",
            "193 block3c_se_squeeze False\n",
            "194 block3c_se_reshape False\n",
            "195 block3c_se_reduce False\n",
            "196 block3c_se_expand False\n",
            "197 block3c_se_excite False\n",
            "198 block3c_project_conv False\n",
            "199 block3c_project_bn False\n",
            "200 block3c_drop False\n",
            "201 block3c_add False\n",
            "202 block3d_expand_conv False\n",
            "203 block3d_expand_bn False\n",
            "204 block3d_expand_activation False\n",
            "205 block3d_dwconv False\n",
            "206 block3d_bn False\n",
            "207 block3d_activation False\n",
            "208 block3d_se_squeeze False\n",
            "209 block3d_se_reshape False\n",
            "210 block3d_se_reduce False\n",
            "211 block3d_se_expand False\n",
            "212 block3d_se_excite False\n",
            "213 block3d_project_conv False\n",
            "214 block3d_project_bn False\n",
            "215 block3d_drop False\n",
            "216 block3d_add False\n",
            "217 block3e_expand_conv False\n",
            "218 block3e_expand_bn False\n",
            "219 block3e_expand_activation False\n",
            "220 block3e_dwconv False\n",
            "221 block3e_bn False\n",
            "222 block3e_activation False\n",
            "223 block3e_se_squeeze False\n",
            "224 block3e_se_reshape False\n",
            "225 block3e_se_reduce False\n",
            "226 block3e_se_expand False\n",
            "227 block3e_se_excite False\n",
            "228 block3e_project_conv False\n",
            "229 block3e_project_bn False\n",
            "230 block3e_drop False\n",
            "231 block3e_add False\n",
            "232 block3f_expand_conv False\n",
            "233 block3f_expand_bn False\n",
            "234 block3f_expand_activation False\n",
            "235 block3f_dwconv False\n",
            "236 block3f_bn False\n",
            "237 block3f_activation False\n",
            "238 block3f_se_squeeze False\n",
            "239 block3f_se_reshape False\n",
            "240 block3f_se_reduce False\n",
            "241 block3f_se_expand False\n",
            "242 block3f_se_excite False\n",
            "243 block3f_project_conv False\n",
            "244 block3f_project_bn False\n",
            "245 block3f_drop False\n",
            "246 block3f_add False\n",
            "247 block3g_expand_conv False\n",
            "248 block3g_expand_bn False\n",
            "249 block3g_expand_activation False\n",
            "250 block3g_dwconv False\n",
            "251 block3g_bn False\n",
            "252 block3g_activation False\n",
            "253 block3g_se_squeeze False\n",
            "254 block3g_se_reshape False\n",
            "255 block3g_se_reduce False\n",
            "256 block3g_se_expand False\n",
            "257 block3g_se_excite False\n",
            "258 block3g_project_conv False\n",
            "259 block3g_project_bn False\n",
            "260 block3g_drop False\n",
            "261 block3g_add False\n",
            "262 block4a_expand_conv False\n",
            "263 block4a_expand_bn False\n",
            "264 block4a_expand_activation False\n",
            "265 block4a_dwconv_pad False\n",
            "266 block4a_dwconv False\n",
            "267 block4a_bn False\n",
            "268 block4a_activation False\n",
            "269 block4a_se_squeeze False\n",
            "270 block4a_se_reshape False\n",
            "271 block4a_se_reduce False\n",
            "272 block4a_se_expand False\n",
            "273 block4a_se_excite False\n",
            "274 block4a_project_conv False\n",
            "275 block4a_project_bn False\n",
            "276 block4b_expand_conv False\n",
            "277 block4b_expand_bn False\n",
            "278 block4b_expand_activation False\n",
            "279 block4b_dwconv False\n",
            "280 block4b_bn False\n",
            "281 block4b_activation False\n",
            "282 block4b_se_squeeze False\n",
            "283 block4b_se_reshape False\n",
            "284 block4b_se_reduce False\n",
            "285 block4b_se_expand False\n",
            "286 block4b_se_excite False\n",
            "287 block4b_project_conv False\n",
            "288 block4b_project_bn False\n",
            "289 block4b_drop False\n",
            "290 block4b_add False\n",
            "291 block4c_expand_conv False\n",
            "292 block4c_expand_bn False\n",
            "293 block4c_expand_activation False\n",
            "294 block4c_dwconv False\n",
            "295 block4c_bn False\n",
            "296 block4c_activation False\n",
            "297 block4c_se_squeeze False\n",
            "298 block4c_se_reshape False\n",
            "299 block4c_se_reduce False\n",
            "300 block4c_se_expand False\n",
            "301 block4c_se_excite False\n",
            "302 block4c_project_conv False\n",
            "303 block4c_project_bn False\n",
            "304 block4c_drop False\n",
            "305 block4c_add False\n",
            "306 block4d_expand_conv False\n",
            "307 block4d_expand_bn False\n",
            "308 block4d_expand_activation False\n",
            "309 block4d_dwconv False\n",
            "310 block4d_bn False\n",
            "311 block4d_activation False\n",
            "312 block4d_se_squeeze False\n",
            "313 block4d_se_reshape False\n",
            "314 block4d_se_reduce False\n",
            "315 block4d_se_expand False\n",
            "316 block4d_se_excite False\n",
            "317 block4d_project_conv False\n",
            "318 block4d_project_bn False\n",
            "319 block4d_drop False\n",
            "320 block4d_add False\n",
            "321 block4e_expand_conv False\n",
            "322 block4e_expand_bn False\n",
            "323 block4e_expand_activation False\n",
            "324 block4e_dwconv False\n",
            "325 block4e_bn False\n",
            "326 block4e_activation False\n",
            "327 block4e_se_squeeze False\n",
            "328 block4e_se_reshape False\n",
            "329 block4e_se_reduce False\n",
            "330 block4e_se_expand False\n",
            "331 block4e_se_excite False\n",
            "332 block4e_project_conv False\n",
            "333 block4e_project_bn False\n",
            "334 block4e_drop False\n",
            "335 block4e_add False\n",
            "336 block4f_expand_conv False\n",
            "337 block4f_expand_bn False\n",
            "338 block4f_expand_activation False\n",
            "339 block4f_dwconv False\n",
            "340 block4f_bn False\n",
            "341 block4f_activation False\n",
            "342 block4f_se_squeeze False\n",
            "343 block4f_se_reshape False\n",
            "344 block4f_se_reduce False\n",
            "345 block4f_se_expand False\n",
            "346 block4f_se_excite False\n",
            "347 block4f_project_conv False\n",
            "348 block4f_project_bn False\n",
            "349 block4f_drop False\n",
            "350 block4f_add False\n",
            "351 block4g_expand_conv False\n",
            "352 block4g_expand_bn False\n",
            "353 block4g_expand_activation False\n",
            "354 block4g_dwconv False\n",
            "355 block4g_bn False\n",
            "356 block4g_activation False\n",
            "357 block4g_se_squeeze False\n",
            "358 block4g_se_reshape False\n",
            "359 block4g_se_reduce False\n",
            "360 block4g_se_expand False\n",
            "361 block4g_se_excite False\n",
            "362 block4g_project_conv False\n",
            "363 block4g_project_bn False\n",
            "364 block4g_drop False\n",
            "365 block4g_add False\n",
            "366 block4h_expand_conv False\n",
            "367 block4h_expand_bn False\n",
            "368 block4h_expand_activation False\n",
            "369 block4h_dwconv False\n",
            "370 block4h_bn False\n",
            "371 block4h_activation False\n",
            "372 block4h_se_squeeze False\n",
            "373 block4h_se_reshape False\n",
            "374 block4h_se_reduce False\n",
            "375 block4h_se_expand False\n",
            "376 block4h_se_excite False\n",
            "377 block4h_project_conv False\n",
            "378 block4h_project_bn False\n",
            "379 block4h_drop False\n",
            "380 block4h_add False\n",
            "381 block4i_expand_conv False\n",
            "382 block4i_expand_bn False\n",
            "383 block4i_expand_activation False\n",
            "384 block4i_dwconv False\n",
            "385 block4i_bn False\n",
            "386 block4i_activation False\n",
            "387 block4i_se_squeeze False\n",
            "388 block4i_se_reshape False\n",
            "389 block4i_se_reduce False\n",
            "390 block4i_se_expand False\n",
            "391 block4i_se_excite False\n",
            "392 block4i_project_conv False\n",
            "393 block4i_project_bn False\n",
            "394 block4i_drop False\n",
            "395 block4i_add False\n",
            "396 block4j_expand_conv False\n",
            "397 block4j_expand_bn False\n",
            "398 block4j_expand_activation False\n",
            "399 block4j_dwconv False\n",
            "400 block4j_bn False\n",
            "401 block4j_activation False\n",
            "402 block4j_se_squeeze False\n",
            "403 block4j_se_reshape False\n",
            "404 block4j_se_reduce False\n",
            "405 block4j_se_expand False\n",
            "406 block4j_se_excite False\n",
            "407 block4j_project_conv False\n",
            "408 block4j_project_bn False\n",
            "409 block4j_drop False\n",
            "410 block4j_add False\n",
            "411 block5a_expand_conv False\n",
            "412 block5a_expand_bn False\n",
            "413 block5a_expand_activation False\n",
            "414 block5a_dwconv False\n",
            "415 block5a_bn False\n",
            "416 block5a_activation False\n",
            "417 block5a_se_squeeze False\n",
            "418 block5a_se_reshape False\n",
            "419 block5a_se_reduce False\n",
            "420 block5a_se_expand False\n",
            "421 block5a_se_excite False\n",
            "422 block5a_project_conv False\n",
            "423 block5a_project_bn False\n",
            "424 block5b_expand_conv False\n",
            "425 block5b_expand_bn False\n",
            "426 block5b_expand_activation False\n",
            "427 block5b_dwconv False\n",
            "428 block5b_bn False\n",
            "429 block5b_activation False\n",
            "430 block5b_se_squeeze False\n",
            "431 block5b_se_reshape False\n",
            "432 block5b_se_reduce False\n",
            "433 block5b_se_expand False\n",
            "434 block5b_se_excite False\n",
            "435 block5b_project_conv False\n",
            "436 block5b_project_bn False\n",
            "437 block5b_drop False\n",
            "438 block5b_add False\n",
            "439 block5c_expand_conv False\n",
            "440 block5c_expand_bn False\n",
            "441 block5c_expand_activation False\n",
            "442 block5c_dwconv False\n",
            "443 block5c_bn False\n",
            "444 block5c_activation False\n",
            "445 block5c_se_squeeze False\n",
            "446 block5c_se_reshape False\n",
            "447 block5c_se_reduce False\n",
            "448 block5c_se_expand False\n",
            "449 block5c_se_excite False\n",
            "450 block5c_project_conv False\n",
            "451 block5c_project_bn False\n",
            "452 block5c_drop False\n",
            "453 block5c_add False\n",
            "454 block5d_expand_conv False\n",
            "455 block5d_expand_bn False\n",
            "456 block5d_expand_activation False\n",
            "457 block5d_dwconv False\n",
            "458 block5d_bn False\n",
            "459 block5d_activation False\n",
            "460 block5d_se_squeeze False\n",
            "461 block5d_se_reshape False\n",
            "462 block5d_se_reduce False\n",
            "463 block5d_se_expand False\n",
            "464 block5d_se_excite False\n",
            "465 block5d_project_conv False\n",
            "466 block5d_project_bn False\n",
            "467 block5d_drop False\n",
            "468 block5d_add False\n",
            "469 block5e_expand_conv False\n",
            "470 block5e_expand_bn False\n",
            "471 block5e_expand_activation False\n",
            "472 block5e_dwconv False\n",
            "473 block5e_bn False\n",
            "474 block5e_activation False\n",
            "475 block5e_se_squeeze False\n",
            "476 block5e_se_reshape False\n",
            "477 block5e_se_reduce False\n",
            "478 block5e_se_expand False\n",
            "479 block5e_se_excite False\n",
            "480 block5e_project_conv False\n",
            "481 block5e_project_bn False\n",
            "482 block5e_drop False\n",
            "483 block5e_add False\n",
            "484 block5f_expand_conv False\n",
            "485 block5f_expand_bn False\n",
            "486 block5f_expand_activation False\n",
            "487 block5f_dwconv False\n",
            "488 block5f_bn False\n",
            "489 block5f_activation False\n",
            "490 block5f_se_squeeze False\n",
            "491 block5f_se_reshape False\n",
            "492 block5f_se_reduce False\n",
            "493 block5f_se_expand False\n",
            "494 block5f_se_excite False\n",
            "495 block5f_project_conv False\n",
            "496 block5f_project_bn False\n",
            "497 block5f_drop False\n",
            "498 block5f_add False\n",
            "499 block5g_expand_conv False\n",
            "500 block5g_expand_bn False\n",
            "501 block5g_expand_activation False\n",
            "502 block5g_dwconv False\n",
            "503 block5g_bn False\n",
            "504 block5g_activation False\n",
            "505 block5g_se_squeeze False\n",
            "506 block5g_se_reshape False\n",
            "507 block5g_se_reduce False\n",
            "508 block5g_se_expand False\n",
            "509 block5g_se_excite False\n",
            "510 block5g_project_conv False\n",
            "511 block5g_project_bn False\n",
            "512 block5g_drop False\n",
            "513 block5g_add False\n",
            "514 block5h_expand_conv False\n",
            "515 block5h_expand_bn False\n",
            "516 block5h_expand_activation False\n",
            "517 block5h_dwconv False\n",
            "518 block5h_bn False\n",
            "519 block5h_activation False\n",
            "520 block5h_se_squeeze False\n",
            "521 block5h_se_reshape False\n",
            "522 block5h_se_reduce False\n",
            "523 block5h_se_expand False\n",
            "524 block5h_se_excite False\n",
            "525 block5h_project_conv False\n",
            "526 block5h_project_bn False\n",
            "527 block5h_drop False\n",
            "528 block5h_add False\n",
            "529 block5i_expand_conv False\n",
            "530 block5i_expand_bn False\n",
            "531 block5i_expand_activation False\n",
            "532 block5i_dwconv False\n",
            "533 block5i_bn False\n",
            "534 block5i_activation False\n",
            "535 block5i_se_squeeze False\n",
            "536 block5i_se_reshape False\n",
            "537 block5i_se_reduce False\n",
            "538 block5i_se_expand False\n",
            "539 block5i_se_excite False\n",
            "540 block5i_project_conv False\n",
            "541 block5i_project_bn False\n",
            "542 block5i_drop False\n",
            "543 block5i_add False\n",
            "544 block5j_expand_conv False\n",
            "545 block5j_expand_bn False\n",
            "546 block5j_expand_activation False\n",
            "547 block5j_dwconv False\n",
            "548 block5j_bn False\n",
            "549 block5j_activation False\n",
            "550 block5j_se_squeeze False\n",
            "551 block5j_se_reshape False\n",
            "552 block5j_se_reduce False\n",
            "553 block5j_se_expand False\n",
            "554 block5j_se_excite False\n",
            "555 block5j_project_conv False\n",
            "556 block5j_project_bn False\n",
            "557 block5j_drop False\n",
            "558 block5j_add False\n",
            "559 block6a_expand_conv False\n",
            "560 block6a_expand_bn False\n",
            "561 block6a_expand_activation False\n",
            "562 block6a_dwconv_pad False\n",
            "563 block6a_dwconv False\n",
            "564 block6a_bn False\n",
            "565 block6a_activation False\n",
            "566 block6a_se_squeeze False\n",
            "567 block6a_se_reshape False\n",
            "568 block6a_se_reduce False\n",
            "569 block6a_se_expand False\n",
            "570 block6a_se_excite False\n",
            "571 block6a_project_conv False\n",
            "572 block6a_project_bn False\n",
            "573 block6b_expand_conv False\n",
            "574 block6b_expand_bn False\n",
            "575 block6b_expand_activation False\n",
            "576 block6b_dwconv False\n",
            "577 block6b_bn False\n",
            "578 block6b_activation False\n",
            "579 block6b_se_squeeze False\n",
            "580 block6b_se_reshape False\n",
            "581 block6b_se_reduce False\n",
            "582 block6b_se_expand False\n",
            "583 block6b_se_excite False\n",
            "584 block6b_project_conv False\n",
            "585 block6b_project_bn False\n",
            "586 block6b_drop False\n",
            "587 block6b_add False\n",
            "588 block6c_expand_conv False\n",
            "589 block6c_expand_bn False\n",
            "590 block6c_expand_activation False\n",
            "591 block6c_dwconv False\n",
            "592 block6c_bn False\n",
            "593 block6c_activation False\n",
            "594 block6c_se_squeeze False\n",
            "595 block6c_se_reshape False\n",
            "596 block6c_se_reduce False\n",
            "597 block6c_se_expand False\n",
            "598 block6c_se_excite False\n",
            "599 block6c_project_conv False\n",
            "600 block6c_project_bn False\n",
            "601 block6c_drop False\n",
            "602 block6c_add False\n",
            "603 block6d_expand_conv False\n",
            "604 block6d_expand_bn False\n",
            "605 block6d_expand_activation False\n",
            "606 block6d_dwconv False\n",
            "607 block6d_bn False\n",
            "608 block6d_activation False\n",
            "609 block6d_se_squeeze False\n",
            "610 block6d_se_reshape False\n",
            "611 block6d_se_reduce False\n",
            "612 block6d_se_expand False\n",
            "613 block6d_se_excite False\n",
            "614 block6d_project_conv False\n",
            "615 block6d_project_bn False\n",
            "616 block6d_drop False\n",
            "617 block6d_add False\n",
            "618 block6e_expand_conv False\n",
            "619 block6e_expand_bn False\n",
            "620 block6e_expand_activation False\n",
            "621 block6e_dwconv False\n",
            "622 block6e_bn False\n",
            "623 block6e_activation False\n",
            "624 block6e_se_squeeze False\n",
            "625 block6e_se_reshape False\n",
            "626 block6e_se_reduce False\n",
            "627 block6e_se_expand False\n",
            "628 block6e_se_excite False\n",
            "629 block6e_project_conv False\n",
            "630 block6e_project_bn False\n",
            "631 block6e_drop False\n",
            "632 block6e_add False\n",
            "633 block6f_expand_conv False\n",
            "634 block6f_expand_bn False\n",
            "635 block6f_expand_activation False\n",
            "636 block6f_dwconv False\n",
            "637 block6f_bn False\n",
            "638 block6f_activation False\n",
            "639 block6f_se_squeeze False\n",
            "640 block6f_se_reshape False\n",
            "641 block6f_se_reduce False\n",
            "642 block6f_se_expand False\n",
            "643 block6f_se_excite False\n",
            "644 block6f_project_conv False\n",
            "645 block6f_project_bn False\n",
            "646 block6f_drop False\n",
            "647 block6f_add False\n",
            "648 block6g_expand_conv False\n",
            "649 block6g_expand_bn False\n",
            "650 block6g_expand_activation False\n",
            "651 block6g_dwconv False\n",
            "652 block6g_bn False\n",
            "653 block6g_activation False\n",
            "654 block6g_se_squeeze False\n",
            "655 block6g_se_reshape False\n",
            "656 block6g_se_reduce False\n",
            "657 block6g_se_expand False\n",
            "658 block6g_se_excite False\n",
            "659 block6g_project_conv False\n",
            "660 block6g_project_bn False\n",
            "661 block6g_drop False\n",
            "662 block6g_add False\n",
            "663 block6h_expand_conv False\n",
            "664 block6h_expand_bn False\n",
            "665 block6h_expand_activation False\n",
            "666 block6h_dwconv False\n",
            "667 block6h_bn False\n",
            "668 block6h_activation False\n",
            "669 block6h_se_squeeze False\n",
            "670 block6h_se_reshape False\n",
            "671 block6h_se_reduce False\n",
            "672 block6h_se_expand False\n",
            "673 block6h_se_excite False\n",
            "674 block6h_project_conv False\n",
            "675 block6h_project_bn False\n",
            "676 block6h_drop False\n",
            "677 block6h_add False\n",
            "678 block6i_expand_conv False\n",
            "679 block6i_expand_bn False\n",
            "680 block6i_expand_activation False\n",
            "681 block6i_dwconv False\n",
            "682 block6i_bn False\n",
            "683 block6i_activation False\n",
            "684 block6i_se_squeeze False\n",
            "685 block6i_se_reshape False\n",
            "686 block6i_se_reduce False\n",
            "687 block6i_se_expand False\n",
            "688 block6i_se_excite False\n",
            "689 block6i_project_conv False\n",
            "690 block6i_project_bn False\n",
            "691 block6i_drop False\n",
            "692 block6i_add False\n",
            "693 block6j_expand_conv False\n",
            "694 block6j_expand_bn False\n",
            "695 block6j_expand_activation False\n",
            "696 block6j_dwconv False\n",
            "697 block6j_bn False\n",
            "698 block6j_activation False\n",
            "699 block6j_se_squeeze False\n",
            "700 block6j_se_reshape False\n",
            "701 block6j_se_reduce False\n",
            "702 block6j_se_expand False\n",
            "703 block6j_se_excite False\n",
            "704 block6j_project_conv False\n",
            "705 block6j_project_bn False\n",
            "706 block6j_drop False\n",
            "707 block6j_add False\n",
            "708 block6k_expand_conv False\n",
            "709 block6k_expand_bn False\n",
            "710 block6k_expand_activation False\n",
            "711 block6k_dwconv False\n",
            "712 block6k_bn False\n",
            "713 block6k_activation False\n",
            "714 block6k_se_squeeze False\n",
            "715 block6k_se_reshape False\n",
            "716 block6k_se_reduce False\n",
            "717 block6k_se_expand False\n",
            "718 block6k_se_excite False\n",
            "719 block6k_project_conv False\n",
            "720 block6k_project_bn False\n",
            "721 block6k_drop False\n",
            "722 block6k_add False\n",
            "723 block6l_expand_conv False\n",
            "724 block6l_expand_bn False\n",
            "725 block6l_expand_activation False\n",
            "726 block6l_dwconv False\n",
            "727 block6l_bn False\n",
            "728 block6l_activation False\n",
            "729 block6l_se_squeeze False\n",
            "730 block6l_se_reshape False\n",
            "731 block6l_se_reduce False\n",
            "732 block6l_se_expand False\n",
            "733 block6l_se_excite False\n",
            "734 block6l_project_conv False\n",
            "735 block6l_project_bn False\n",
            "736 block6l_drop False\n",
            "737 block6l_add False\n",
            "738 block6m_expand_conv False\n",
            "739 block6m_expand_bn False\n",
            "740 block6m_expand_activation False\n",
            "741 block6m_dwconv False\n",
            "742 block6m_bn False\n",
            "743 block6m_activation False\n",
            "744 block6m_se_squeeze False\n",
            "745 block6m_se_reshape False\n",
            "746 block6m_se_reduce False\n",
            "747 block6m_se_expand False\n",
            "748 block6m_se_excite False\n",
            "749 block6m_project_conv False\n",
            "750 block6m_project_bn False\n",
            "751 block6m_drop False\n",
            "752 block6m_add False\n",
            "753 block7a_expand_conv False\n",
            "754 block7a_expand_bn False\n",
            "755 block7a_expand_activation False\n",
            "756 block7a_dwconv False\n",
            "757 block7a_bn False\n",
            "758 block7a_activation False\n",
            "759 block7a_se_squeeze False\n",
            "760 block7a_se_reshape False\n",
            "761 block7a_se_reduce False\n",
            "762 block7a_se_expand False\n",
            "763 block7a_se_excite False\n",
            "764 block7a_project_conv False\n",
            "765 block7a_project_bn False\n",
            "766 block7b_expand_conv False\n",
            "767 block7b_expand_bn False\n",
            "768 block7b_expand_activation False\n",
            "769 block7b_dwconv False\n",
            "770 block7b_bn False\n",
            "771 block7b_activation False\n",
            "772 block7b_se_squeeze False\n",
            "773 block7b_se_reshape False\n",
            "774 block7b_se_reduce False\n",
            "775 block7b_se_expand False\n",
            "776 block7b_se_excite False\n",
            "777 block7b_project_conv False\n",
            "778 block7b_project_bn False\n",
            "779 block7b_drop False\n",
            "780 block7b_add False\n",
            "781 block7c_expand_conv False\n",
            "782 block7c_expand_bn False\n",
            "783 block7c_expand_activation False\n",
            "784 block7c_dwconv False\n",
            "785 block7c_bn False\n",
            "786 block7c_activation False\n",
            "787 block7c_se_squeeze False\n",
            "788 block7c_se_reshape False\n",
            "789 block7c_se_reduce False\n",
            "790 block7c_se_expand False\n",
            "791 block7c_se_excite False\n",
            "792 block7c_project_conv False\n",
            "793 block7c_project_bn False\n",
            "794 block7c_drop False\n",
            "795 block7c_add False\n",
            "796 block7d_expand_conv False\n",
            "797 block7d_expand_bn False\n",
            "798 block7d_expand_activation False\n",
            "799 block7d_dwconv False\n",
            "800 block7d_bn False\n",
            "801 block7d_activation False\n",
            "802 block7d_se_squeeze False\n",
            "803 block7d_se_reshape False\n",
            "804 block7d_se_reduce False\n",
            "805 block7d_se_expand False\n",
            "806 block7d_se_excite False\n",
            "807 block7d_project_conv False\n",
            "808 block7d_project_bn False\n",
            "809 block7d_drop True\n",
            "810 block7d_add True\n",
            "811 top_conv True\n",
            "812 top_bn True\n",
            "813 top_activation True\n"
          ]
        }
      ]
    },
    {
      "cell_type": "code",
      "source": [
        "fine_tune_epochs = 10"
      ],
      "metadata": {
        "id": "mXofqRygDw5H"
      },
      "execution_count": 33,
      "outputs": []
    },
    {
      "cell_type": "code",
      "source": [
        "history = model.fit(train_dataset, batch_size = 32, epochs=fine_tune_epochs, validation_data = validation_dataset, callbacks=[checkpoint_callback])"
      ],
      "metadata": {
        "colab": {
          "base_uri": "https://localhost:8080/"
        },
        "id": "XHnnjKugDw1K",
        "outputId": "7c87e2c0-c6d3-4b7b-f48b-43841b3a91e4"
      },
      "execution_count": 34,
      "outputs": [
        {
          "output_type": "stream",
          "name": "stdout",
          "text": [
            "Epoch 1/10\n",
            "444/445 [============================>.] - ETA: 0s - loss: 7.1324 - gender_output_loss: 0.2672 - age_output_loss: 6.8651 - gender_output_accuracy: 0.8676 - age_output_accuracy: 0.0461\n",
            "Epoch 1: val_age_output_loss improved from 7.66752 to 6.78180, saving model to drive/MyDrive/model_3_weights.h5\n",
            "445/445 [==============================] - 41s 86ms/step - loss: 7.1321 - gender_output_loss: 0.2672 - age_output_loss: 6.8648 - gender_output_accuracy: 0.8675 - age_output_accuracy: 0.0463 - val_loss: 7.0881 - val_gender_output_loss: 0.3063 - val_age_output_loss: 6.7818 - val_gender_output_accuracy: 0.8760 - val_age_output_accuracy: 0.0445\n",
            "Epoch 2/10\n",
            "444/445 [============================>.] - ETA: 0s - loss: 6.9628 - gender_output_loss: 0.2647 - age_output_loss: 6.6981 - gender_output_accuracy: 0.8718 - age_output_accuracy: 0.0470\n",
            "Epoch 2: val_age_output_loss did not improve from 6.78180\n",
            "445/445 [==============================] - 35s 80ms/step - loss: 6.9590 - gender_output_loss: 0.2646 - age_output_loss: 6.6944 - gender_output_accuracy: 0.8717 - age_output_accuracy: 0.0472 - val_loss: 7.0910 - val_gender_output_loss: 0.3047 - val_age_output_loss: 6.7863 - val_gender_output_accuracy: 0.8686 - val_age_output_accuracy: 0.0445\n",
            "Epoch 3/10\n",
            "444/445 [============================>.] - ETA: 0s - loss: 6.9240 - gender_output_loss: 0.2545 - age_output_loss: 6.6695 - gender_output_accuracy: 0.8765 - age_output_accuracy: 0.0472\n",
            "Epoch 3: val_age_output_loss improved from 6.78180 to 6.72028, saving model to drive/MyDrive/model_3_weights.h5\n",
            "445/445 [==============================] - 38s 86ms/step - loss: 6.9208 - gender_output_loss: 0.2544 - age_output_loss: 6.6664 - gender_output_accuracy: 0.8765 - age_output_accuracy: 0.0473 - val_loss: 7.0167 - val_gender_output_loss: 0.2964 - val_age_output_loss: 6.7203 - val_gender_output_accuracy: 0.8749 - val_age_output_accuracy: 0.0445\n",
            "Epoch 4/10\n",
            "444/445 [============================>.] - ETA: 0s - loss: 6.8791 - gender_output_loss: 0.2552 - age_output_loss: 6.6239 - gender_output_accuracy: 0.8736 - age_output_accuracy: 0.0469\n",
            "Epoch 4: val_age_output_loss improved from 6.72028 to 6.69739, saving model to drive/MyDrive/model_3_weights.h5\n",
            "445/445 [==============================] - 37s 83ms/step - loss: 6.8769 - gender_output_loss: 0.2552 - age_output_loss: 6.6217 - gender_output_accuracy: 0.8735 - age_output_accuracy: 0.0470 - val_loss: 6.9958 - val_gender_output_loss: 0.2984 - val_age_output_loss: 6.6974 - val_gender_output_accuracy: 0.8749 - val_age_output_accuracy: 0.0445\n",
            "Epoch 5/10\n",
            "444/445 [============================>.] - ETA: 0s - loss: 6.8271 - gender_output_loss: 0.2581 - age_output_loss: 6.5689 - gender_output_accuracy: 0.8732 - age_output_accuracy: 0.0469\n",
            "Epoch 5: val_age_output_loss improved from 6.69739 to 6.67951, saving model to drive/MyDrive/model_3_weights.h5\n",
            "445/445 [==============================] - 37s 84ms/step - loss: 6.8241 - gender_output_loss: 0.2581 - age_output_loss: 6.5660 - gender_output_accuracy: 0.8730 - age_output_accuracy: 0.0471 - val_loss: 6.9793 - val_gender_output_loss: 0.2997 - val_age_output_loss: 6.6795 - val_gender_output_accuracy: 0.8789 - val_age_output_accuracy: 0.0445\n",
            "Epoch 6/10\n",
            "444/445 [============================>.] - ETA: 0s - loss: 6.7871 - gender_output_loss: 0.2560 - age_output_loss: 6.5311 - gender_output_accuracy: 0.8758 - age_output_accuracy: 0.0465\n",
            "Epoch 6: val_age_output_loss improved from 6.67951 to 6.59312, saving model to drive/MyDrive/model_3_weights.h5\n",
            "445/445 [==============================] - 40s 89ms/step - loss: 6.7863 - gender_output_loss: 0.2560 - age_output_loss: 6.5303 - gender_output_accuracy: 0.8756 - age_output_accuracy: 0.0467 - val_loss: 6.8872 - val_gender_output_loss: 0.2941 - val_age_output_loss: 6.5931 - val_gender_output_accuracy: 0.8737 - val_age_output_accuracy: 0.0445\n",
            "Epoch 7/10\n",
            "444/445 [============================>.] - ETA: 0s - loss: 6.7347 - gender_output_loss: 0.2530 - age_output_loss: 6.4818 - gender_output_accuracy: 0.8750 - age_output_accuracy: 0.0468\n",
            "Epoch 7: val_age_output_loss improved from 6.59312 to 6.56458, saving model to drive/MyDrive/model_3_weights.h5\n",
            "445/445 [==============================] - 38s 86ms/step - loss: 6.7316 - gender_output_loss: 0.2529 - age_output_loss: 6.4787 - gender_output_accuracy: 0.8749 - age_output_accuracy: 0.0470 - val_loss: 6.8705 - val_gender_output_loss: 0.3060 - val_age_output_loss: 6.5646 - val_gender_output_accuracy: 0.8745 - val_age_output_accuracy: 0.0445\n",
            "Epoch 8/10\n",
            "444/445 [============================>.] - ETA: 0s - loss: 6.6648 - gender_output_loss: 0.2517 - age_output_loss: 6.4131 - gender_output_accuracy: 0.8768 - age_output_accuracy: 0.0472\n",
            "Epoch 8: val_age_output_loss did not improve from 6.56458\n",
            "445/445 [==============================] - 35s 80ms/step - loss: 6.6627 - gender_output_loss: 0.2517 - age_output_loss: 6.4110 - gender_output_accuracy: 0.8767 - age_output_accuracy: 0.0473 - val_loss: 6.8892 - val_gender_output_loss: 0.3103 - val_age_output_loss: 6.5789 - val_gender_output_accuracy: 0.8739 - val_age_output_accuracy: 0.0443\n",
            "Epoch 9/10\n",
            "444/445 [============================>.] - ETA: 0s - loss: 6.6840 - gender_output_loss: 0.2458 - age_output_loss: 6.4383 - gender_output_accuracy: 0.8768 - age_output_accuracy: 0.0467\n",
            "Epoch 9: val_age_output_loss improved from 6.56458 to 6.55019, saving model to drive/MyDrive/model_3_weights.h5\n",
            "445/445 [==============================] - 38s 85ms/step - loss: 6.6836 - gender_output_loss: 0.2458 - age_output_loss: 6.4378 - gender_output_accuracy: 0.8767 - age_output_accuracy: 0.0468 - val_loss: 6.8535 - val_gender_output_loss: 0.3034 - val_age_output_loss: 6.5502 - val_gender_output_accuracy: 0.8753 - val_age_output_accuracy: 0.0445\n",
            "Epoch 10/10\n",
            "444/445 [============================>.] - ETA: 0s - loss: 6.6455 - gender_output_loss: 0.2460 - age_output_loss: 6.3995 - gender_output_accuracy: 0.8788 - age_output_accuracy: 0.0466\n",
            "Epoch 10: val_age_output_loss did not improve from 6.55019\n",
            "445/445 [==============================] - 36s 81ms/step - loss: 6.6429 - gender_output_loss: 0.2461 - age_output_loss: 6.3969 - gender_output_accuracy: 0.8786 - age_output_accuracy: 0.0468 - val_loss: 6.8807 - val_gender_output_loss: 0.3139 - val_age_output_loss: 6.5668 - val_gender_output_accuracy: 0.8718 - val_age_output_accuracy: 0.0445\n"
          ]
        }
      ]
    },
    {
      "cell_type": "code",
      "source": [],
      "metadata": {
        "id": "8JOMmWkZDwwu"
      },
      "execution_count": 34,
      "outputs": []
    },
    {
      "cell_type": "code",
      "source": [],
      "metadata": {
        "id": "WbFjorGPDbZJ"
      },
      "execution_count": 34,
      "outputs": []
    },
    {
      "cell_type": "code",
      "source": [
        "true_gender_labels = y_test[:,0]\n",
        "true_age_labels = y_test[:,1]"
      ],
      "metadata": {
        "id": "aVb3fsyuTi7S"
      },
      "execution_count": 35,
      "outputs": []
    },
    {
      "cell_type": "code",
      "source": [
        "from sklearn.metrics import mean_absolute_error, accuracy_score\n",
        "\n",
        "def evaluate(model, dataset, y_true_age, y_true_gender):\n",
        "    age_predictions = []\n",
        "\n",
        "    # for batch in dataset:\n",
        "    #   preds = model.predict(batch)\n",
        "    #   age_predictions.extend(preds[1].reshape(-1))\n",
        "\n",
        "    # preds = model.predict(dataset)\n",
        "    # for i in range(len(dataset)):\n",
        "    #   batch_preds = preds[i]\n",
        "    #   age_predictions.extend(batch_preds[1].reshape(-1))\n",
        "\n",
        "    preds = model.predict(dataset)\n",
        "\n",
        "    # Extend age_predictions with the predictions for age\n",
        "    age_predictions = preds[1].reshape(-1)\n",
        "\n",
        "    gender_predictions = preds[0].reshape(-1)\n",
        "    gender_predictions = [1 if pred>=0.5 else 0 for pred in gender_predictions]\n",
        "    mae = mean_absolute_error(y_true_age, age_predictions)\n",
        "    acc = accuracy_score(y_true_gender, gender_predictions)\n",
        "\n",
        "    return {\"Age_Prediction_MAE\" : mae, \"Gender_Prediction_Accuracy\" : acc}\n",
        "\n"
      ],
      "metadata": {
        "id": "vlA9eTexN2hx"
      },
      "execution_count": 36,
      "outputs": []
    },
    {
      "cell_type": "code",
      "source": [
        "import pandas as pd\n",
        "evaluate(model, test_dataset, np.array(true_age_labels), np.array(true_gender_labels))"
      ],
      "metadata": {
        "colab": {
          "base_uri": "https://localhost:8080/"
        },
        "id": "RcHH33_VOLwN",
        "outputId": "33fe3960-7795-450e-9e1d-2799efe34492"
      },
      "execution_count": 40,
      "outputs": [
        {
          "output_type": "stream",
          "name": "stdout",
          "text": [
            "149/149 [==============================] - 3s 20ms/step\n"
          ]
        },
        {
          "output_type": "execute_result",
          "data": {
            "text/plain": [
              "{'Age_Prediction_MAE': 6.798200798152797,\n",
              " 'Gender_Prediction_Accuracy': 0.8745519713261649}"
            ]
          },
          "metadata": {},
          "execution_count": 40
        }
      ]
    },
    {
      "cell_type": "code",
      "source": [
        "from tensorflow.keras.models import load_model\n",
        "model.load_weights(\"drive/MyDrive/model_3_weights.h5\")"
      ],
      "metadata": {
        "id": "CHiSBnOxOVvo"
      },
      "execution_count": 44,
      "outputs": []
    },
    {
      "cell_type": "code",
      "source": [
        "evaluate(model, test_dataset, np.array(true_age_labels), np.array(true_gender_labels))"
      ],
      "metadata": {
        "colab": {
          "base_uri": "https://localhost:8080/"
        },
        "id": "4JOXExEsKp8D",
        "outputId": "a7cc013d-bf48-46c3-e00e-81f284696e8d"
      },
      "execution_count": 45,
      "outputs": [
        {
          "output_type": "stream",
          "name": "stdout",
          "text": [
            "149/149 [==============================] - 4s 27ms/step\n"
          ]
        },
        {
          "output_type": "execute_result",
          "data": {
            "text/plain": [
              "{'Age_Prediction_MAE': 6.821651506330955,\n",
              " 'Gender_Prediction_Accuracy': 0.8747628083491461}"
            ]
          },
          "metadata": {},
          "execution_count": 45
        }
      ]
    },
    {
      "cell_type": "code",
      "source": [
        "history = model.fit(train_dataset, batch_size = 32, epochs=fine_tune_epochs, validation_data = validation_dataset, callbacks=[checkpoint_callback])"
      ],
      "metadata": {
        "colab": {
          "base_uri": "https://localhost:8080/"
        },
        "id": "bV1r3pPwK9kq",
        "outputId": "8934718f-5306-46ea-d048-59d8a2879651"
      },
      "execution_count": 46,
      "outputs": [
        {
          "output_type": "stream",
          "name": "stdout",
          "text": [
            "Epoch 1/10\n",
            "444/445 [============================>.] - ETA: 0s - loss: 6.5910 - gender_output_loss: 0.2454 - age_output_loss: 6.3455 - gender_output_accuracy: 0.8801 - age_output_accuracy: 0.0470\n",
            "Epoch 1: val_age_output_loss did not improve from 6.55019\n",
            "445/445 [==============================] - 37s 84ms/step - loss: 6.5893 - gender_output_loss: 0.2455 - age_output_loss: 6.3438 - gender_output_accuracy: 0.8799 - age_output_accuracy: 0.0472 - val_loss: 6.8538 - val_gender_output_loss: 0.3021 - val_age_output_loss: 6.5517 - val_gender_output_accuracy: 0.8741 - val_age_output_accuracy: 0.0445\n",
            "Epoch 2/10\n",
            "444/445 [============================>.] - ETA: 0s - loss: 6.6418 - gender_output_loss: 0.2473 - age_output_loss: 6.3944 - gender_output_accuracy: 0.8778 - age_output_accuracy: 0.0467\n",
            "Epoch 2: val_age_output_loss did not improve from 6.55019\n",
            "445/445 [==============================] - 35s 79ms/step - loss: 6.6379 - gender_output_loss: 0.2474 - age_output_loss: 6.3905 - gender_output_accuracy: 0.8777 - age_output_accuracy: 0.0468 - val_loss: 6.9004 - val_gender_output_loss: 0.3021 - val_age_output_loss: 6.5983 - val_gender_output_accuracy: 0.8777 - val_age_output_accuracy: 0.0445\n",
            "Epoch 3/10\n",
            "444/445 [============================>.] - ETA: 0s - loss: 6.5384 - gender_output_loss: 0.2477 - age_output_loss: 6.2907 - gender_output_accuracy: 0.8767 - age_output_accuracy: 0.0469\n",
            "Epoch 3: val_age_output_loss improved from 6.55019 to 6.54860, saving model to drive/MyDrive/model_3_weights.h5\n",
            "445/445 [==============================] - 39s 87ms/step - loss: 6.5351 - gender_output_loss: 0.2477 - age_output_loss: 6.2875 - gender_output_accuracy: 0.8765 - age_output_accuracy: 0.0471 - val_loss: 6.8507 - val_gender_output_loss: 0.3021 - val_age_output_loss: 6.5486 - val_gender_output_accuracy: 0.8737 - val_age_output_accuracy: 0.0445\n",
            "Epoch 4/10\n",
            "444/445 [============================>.] - ETA: 0s - loss: 6.4862 - gender_output_loss: 0.2388 - age_output_loss: 6.2474 - gender_output_accuracy: 0.8816 - age_output_accuracy: 0.0471\n",
            "Epoch 4: val_age_output_loss improved from 6.54860 to 6.53591, saving model to drive/MyDrive/model_3_weights.h5\n",
            "445/445 [==============================] - 36s 81ms/step - loss: 6.4848 - gender_output_loss: 0.2388 - age_output_loss: 6.2460 - gender_output_accuracy: 0.8816 - age_output_accuracy: 0.0472 - val_loss: 6.8432 - val_gender_output_loss: 0.3073 - val_age_output_loss: 6.5359 - val_gender_output_accuracy: 0.8794 - val_age_output_accuracy: 0.0443\n",
            "Epoch 5/10\n",
            "444/445 [============================>.] - ETA: 0s - loss: 6.5249 - gender_output_loss: 0.2419 - age_output_loss: 6.2830 - gender_output_accuracy: 0.8792 - age_output_accuracy: 0.0471\n",
            "Epoch 5: val_age_output_loss improved from 6.53591 to 6.53310, saving model to drive/MyDrive/model_3_weights.h5\n",
            "445/445 [==============================] - 38s 84ms/step - loss: 6.5235 - gender_output_loss: 0.2420 - age_output_loss: 6.2816 - gender_output_accuracy: 0.8791 - age_output_accuracy: 0.0472 - val_loss: 6.8410 - val_gender_output_loss: 0.3079 - val_age_output_loss: 6.5331 - val_gender_output_accuracy: 0.8791 - val_age_output_accuracy: 0.0445\n",
            "Epoch 6/10\n",
            "444/445 [============================>.] - ETA: 0s - loss: 6.4421 - gender_output_loss: 0.2400 - age_output_loss: 6.2021 - gender_output_accuracy: 0.8810 - age_output_accuracy: 0.0466\n",
            "Epoch 6: val_age_output_loss improved from 6.53310 to 6.52347, saving model to drive/MyDrive/model_3_weights.h5\n",
            "445/445 [==============================] - 37s 84ms/step - loss: 6.4404 - gender_output_loss: 0.2402 - age_output_loss: 6.2003 - gender_output_accuracy: 0.8808 - age_output_accuracy: 0.0468 - val_loss: 6.8365 - val_gender_output_loss: 0.3131 - val_age_output_loss: 6.5235 - val_gender_output_accuracy: 0.8770 - val_age_output_accuracy: 0.0445\n",
            "Epoch 7/10\n",
            "444/445 [============================>.] - ETA: 0s - loss: 6.3716 - gender_output_loss: 0.2368 - age_output_loss: 6.1348 - gender_output_accuracy: 0.8814 - age_output_accuracy: 0.0467\n",
            "Epoch 7: val_age_output_loss improved from 6.52347 to 6.49489, saving model to drive/MyDrive/model_3_weights.h5\n",
            "445/445 [==============================] - 38s 86ms/step - loss: 6.3703 - gender_output_loss: 0.2367 - age_output_loss: 6.1335 - gender_output_accuracy: 0.8813 - age_output_accuracy: 0.0469 - val_loss: 6.8105 - val_gender_output_loss: 0.3156 - val_age_output_loss: 6.4949 - val_gender_output_accuracy: 0.8777 - val_age_output_accuracy: 0.0443\n",
            "Epoch 8/10\n",
            "444/445 [============================>.] - ETA: 0s - loss: 6.3717 - gender_output_loss: 0.2379 - age_output_loss: 6.1338 - gender_output_accuracy: 0.8875 - age_output_accuracy: 0.0470\n",
            "Epoch 8: val_age_output_loss improved from 6.49489 to 6.48021, saving model to drive/MyDrive/model_3_weights.h5\n",
            "445/445 [==============================] - 38s 85ms/step - loss: 6.3708 - gender_output_loss: 0.2379 - age_output_loss: 6.1329 - gender_output_accuracy: 0.8873 - age_output_accuracy: 0.0472 - val_loss: 6.7912 - val_gender_output_loss: 0.3110 - val_age_output_loss: 6.4802 - val_gender_output_accuracy: 0.8756 - val_age_output_accuracy: 0.0445\n",
            "Epoch 9/10\n",
            "444/445 [============================>.] - ETA: 0s - loss: 6.3496 - gender_output_loss: 0.2399 - age_output_loss: 6.1097 - gender_output_accuracy: 0.8825 - age_output_accuracy: 0.0470\n",
            "Epoch 9: val_age_output_loss did not improve from 6.48021\n",
            "445/445 [==============================] - 35s 80ms/step - loss: 6.3456 - gender_output_loss: 0.2398 - age_output_loss: 6.1057 - gender_output_accuracy: 0.8825 - age_output_accuracy: 0.0472 - val_loss: 6.8543 - val_gender_output_loss: 0.3055 - val_age_output_loss: 6.5488 - val_gender_output_accuracy: 0.8787 - val_age_output_accuracy: 0.0443\n",
            "Epoch 10/10\n",
            "444/445 [============================>.] - ETA: 0s - loss: 6.3417 - gender_output_loss: 0.2364 - age_output_loss: 6.1053 - gender_output_accuracy: 0.8815 - age_output_accuracy: 0.0469\n",
            "Epoch 10: val_age_output_loss improved from 6.48021 to 6.38188, saving model to drive/MyDrive/model_3_weights.h5\n",
            "445/445 [==============================] - 39s 87ms/step - loss: 6.3417 - gender_output_loss: 0.2364 - age_output_loss: 6.1053 - gender_output_accuracy: 0.8814 - age_output_accuracy: 0.0471 - val_loss: 6.7034 - val_gender_output_loss: 0.3215 - val_age_output_loss: 6.3819 - val_gender_output_accuracy: 0.8758 - val_age_output_accuracy: 0.0443\n"
          ]
        }
      ]
    },
    {
      "cell_type": "code",
      "source": [
        "evaluate(model, test_dataset, np.array(true_age_labels), np.array(true_gender_labels))"
      ],
      "metadata": {
        "colab": {
          "base_uri": "https://localhost:8080/"
        },
        "id": "6WTUwkVVLHbv",
        "outputId": "24ddb5e4-3d6a-447d-f76a-aa81060ec287"
      },
      "execution_count": 47,
      "outputs": [
        {
          "output_type": "stream",
          "name": "stdout",
          "text": [
            "149/149 [==============================] - 3s 20ms/step\n"
          ]
        },
        {
          "output_type": "execute_result",
          "data": {
            "text/plain": [
              "{'Age_Prediction_MAE': 6.677043762710711,\n",
              " 'Gender_Prediction_Accuracy': 0.876449504532996}"
            ]
          },
          "metadata": {},
          "execution_count": 47
        }
      ]
    },
    {
      "cell_type": "code",
      "source": [
        "model.save(\"utk_mae_66.h5\")"
      ],
      "metadata": {
        "colab": {
          "base_uri": "https://localhost:8080/"
        },
        "id": "oUbFM5K6LJhE",
        "outputId": "6bec2478-ef36-4dbf-cf1f-cd5e79abe7bf"
      },
      "execution_count": 48,
      "outputs": [
        {
          "output_type": "stream",
          "name": "stderr",
          "text": [
            "/usr/local/lib/python3.10/dist-packages/keras/src/engine/training.py:3103: UserWarning: You are saving your model as an HDF5 file via `model.save()`. This file format is considered legacy. We recommend using instead the native Keras format, e.g. `model.save('my_model.keras')`.\n",
            "  saving_api.save_model(\n"
          ]
        }
      ]
    },
    {
      "cell_type": "code",
      "source": [
        "shutil.copy(\"/content/utk_mae_66.h5\",\"drive/MyDrive/\")"
      ],
      "metadata": {
        "colab": {
          "base_uri": "https://localhost:8080/",
          "height": 36
        },
        "id": "Dhf3mC78M276",
        "outputId": "cb7f2146-6d99-47a9-9b8c-c0b4faaf44cd"
      },
      "execution_count": 49,
      "outputs": [
        {
          "output_type": "execute_result",
          "data": {
            "text/plain": [
              "'drive/MyDrive/utk_mae_66.h5'"
            ],
            "application/vnd.google.colaboratory.intrinsic+json": {
              "type": "string"
            }
          },
          "metadata": {},
          "execution_count": 49
        }
      ]
    },
    {
      "cell_type": "code",
      "source": [],
      "metadata": {
        "id": "yWftD0-DND8B"
      },
      "execution_count": null,
      "outputs": []
    }
  ]
}