{
  "nbformat": 4,
  "nbformat_minor": 0,
  "metadata": {
    "colab": {
      "provenance": [],
      "gpuType": "T4"
    },
    "kernelspec": {
      "name": "python3",
      "display_name": "Python 3"
    },
    "language_info": {
      "name": "python"
    },
    "accelerator": "GPU"
  },
  "cells": [
    {
      "cell_type": "code",
      "execution_count": 1,
      "metadata": {
        "id": "hFNnw51aEWeB"
      },
      "outputs": [],
      "source": [
        "import os\n",
        "import shutil"
      ]
    },
    {
      "cell_type": "code",
      "source": [
        "from google.colab import drive\n",
        "drive.mount('/content/drive')"
      ],
      "metadata": {
        "colab": {
          "base_uri": "https://localhost:8080/"
        },
        "id": "kUezd4lsEnT4",
        "outputId": "9959d34c-27e6-4659-ae43-38cf9b728bbd"
      },
      "execution_count": 2,
      "outputs": [
        {
          "output_type": "stream",
          "name": "stdout",
          "text": [
            "Mounted at /content/drive\n"
          ]
        }
      ]
    },
    {
      "cell_type": "code",
      "source": [
        "import zipfile\n",
        "\n",
        "\n",
        "# Unzip the downloaded file\n",
        "zip_ref = zipfile.ZipFile(\"/content/drive/MyDrive/archive.zip\", \"r\")\n",
        "zip_ref.extractall()\n",
        "zip_ref.close()"
      ],
      "metadata": {
        "id": "GE8rSQZiEnzL"
      },
      "execution_count": 3,
      "outputs": []
    },
    {
      "cell_type": "code",
      "source": [
        "for dirpath, dirnames, filenames in os.walk(\"/content/UTKFace\"):\n",
        "  print(f\"There are {len(dirnames)} directories and {len(filenames)} images in '{dirpath}'.\")"
      ],
      "metadata": {
        "colab": {
          "base_uri": "https://localhost:8080/"
        },
        "id": "CG3PnWkmGWUm",
        "outputId": "8e526b9f-6252-4591-d9a9-f9b04b393635"
      },
      "execution_count": 4,
      "outputs": [
        {
          "output_type": "stream",
          "name": "stdout",
          "text": [
            "There are 0 directories and 23708 images in '/content/UTKFace'.\n"
          ]
        }
      ]
    },
    {
      "cell_type": "code",
      "source": [
        "for dirpath, dirnames, filenames in os.walk(\"/content/crop_part1\"):\n",
        "  print(f\"There are {len(dirnames)} directories and {len(filenames)} images in '{dirpath}'.\")"
      ],
      "metadata": {
        "colab": {
          "base_uri": "https://localhost:8080/"
        },
        "id": "1O-yU_QZGwMf",
        "outputId": "45f459e2-68b0-4f55-c507-014a914ef9c8"
      },
      "execution_count": 5,
      "outputs": [
        {
          "output_type": "stream",
          "name": "stdout",
          "text": [
            "There are 0 directories and 9780 images in '/content/crop_part1'.\n"
          ]
        }
      ]
    },
    {
      "cell_type": "code",
      "source": [
        "import matplotlib.pyplot as plt\n",
        "import matplotlib.image as mpimg\n",
        "import random\n",
        "\n",
        "def view_random_image(target_dir):\n",
        "  # Setup target directory (we'll view images from here)\n",
        "  target_folder = target_dir\n",
        "\n",
        "  # Get a random image path\n",
        "  random_image = random.sample(os.listdir(target_folder), 4)\n",
        "\n",
        "  # Read in the image and plot it using matplotlib\n",
        "  fig, ax = plt.subplots(2,2)\n",
        "  for i in range(4):\n",
        "    img = mpimg.imread(target_folder + \"/\" + random_image[i])\n",
        "    if(i<=1):\n",
        "      ax[0][i].imshow(img)\n",
        "      ax[0][i].set_title(random_image[i].split('.')[0])\n",
        "      print(img.shape)\n",
        "    else:\n",
        "      ax[1][i-2].imshow(img)\n",
        "      ax[1][i-2].set_title(random_image[i].split('.')[0])\n",
        "      print(img.shape)"
      ],
      "metadata": {
        "id": "OXB26x8xGz_t"
      },
      "execution_count": 6,
      "outputs": []
    },
    {
      "cell_type": "code",
      "source": [
        "view_random_image('/content/UTKFace')"
      ],
      "metadata": {
        "colab": {
          "base_uri": "https://localhost:8080/",
          "height": 521
        },
        "id": "vNnQIvDvG-T8",
        "outputId": "f6b5e986-e497-4b79-844a-d8b194b2916f"
      },
      "execution_count": 7,
      "outputs": [
        {
          "output_type": "stream",
          "name": "stdout",
          "text": [
            "(200, 200, 3)\n",
            "(200, 200, 3)\n",
            "(200, 200, 3)\n",
            "(200, 200, 3)\n"
          ]
        },
        {
          "output_type": "display_data",
          "data": {
            "text/plain": [
              "<Figure size 640x480 with 4 Axes>"
            ],
            "image/png": "[encoded data removed]"
          },
          "metadata": {}
        }
      ]
    },
    {
      "cell_type": "code",
      "source": [
        "image_paths = []\n",
        "age_labels = []\n",
        "gender_labels = []\n",
        "gender_age_labels = []\n",
        "\n",
        "for filename in os.listdir(\"/content/UTKFace\"):\n",
        "    image_path = os.path.join(\"/content/UTKFace\", filename)\n",
        "    temp = filename.split('_')\n",
        "    age = int(temp[0])\n",
        "    gender = int(temp[1])\n",
        "    image_paths.append(image_path)\n",
        "    age_labels.append(age)\n",
        "    gender_labels.append(gender)\n",
        "    gender_age_labels.append([gender, age])"
      ],
      "metadata": {
        "id": "vaXt4nFiHEar"
      },
      "execution_count": 8,
      "outputs": []
    },
    {
      "cell_type": "code",
      "source": [
        "image_paths[:2]"
      ],
      "metadata": {
        "colab": {
          "base_uri": "https://localhost:8080/"
        },
        "id": "mIdqTCAZIdiS",
        "outputId": "2304cc61-3e8c-4ed9-fe3f-f7e4f6b708cd"
      },
      "execution_count": 9,
      "outputs": [
        {
          "output_type": "execute_result",
          "data": {
            "text/plain": [
              "['/content/UTKFace/30_1_2_20170116191316723.jpg.chip.jpg',\n",
              " '/content/UTKFace/40_1_0_20170104172853980.jpg.chip.jpg']"
            ]
          },
          "metadata": {},
          "execution_count": 9
        }
      ]
    },
    {
      "cell_type": "code",
      "source": [
        "age_labels[:10]"
      ],
      "metadata": {
        "colab": {
          "base_uri": "https://localhost:8080/"
        },
        "id": "s2R29QubHWuU",
        "outputId": "6d4f6f9e-9c65-4384-e7f0-6d197b78c71e"
      },
      "execution_count": 10,
      "outputs": [
        {
          "output_type": "execute_result",
          "data": {
            "text/plain": [
              "[30, 40, 31, 8, 26, 82, 40, 79, 28, 27]"
            ]
          },
          "metadata": {},
          "execution_count": 10
        }
      ]
    },
    {
      "cell_type": "code",
      "source": [
        "gender_labels[:10]"
      ],
      "metadata": {
        "colab": {
          "base_uri": "https://localhost:8080/"
        },
        "id": "dyA_KyIbHgvj",
        "outputId": "b15fd943-faa3-43b1-b982-242c789b756a"
      },
      "execution_count": 11,
      "outputs": [
        {
          "output_type": "execute_result",
          "data": {
            "text/plain": [
              "[1, 1, 1, 0, 0, 0, 0, 1, 1, 0]"
            ]
          },
          "metadata": {},
          "execution_count": 11
        }
      ]
    },
    {
      "cell_type": "code",
      "source": [
        "gender_age_labels[:10]"
      ],
      "metadata": {
        "colab": {
          "base_uri": "https://localhost:8080/"
        },
        "id": "-fj81rRIILqk",
        "outputId": "9af7fdd5-a797-446a-9ea9-915acbdb3e60"
      },
      "execution_count": 12,
      "outputs": [
        {
          "output_type": "execute_result",
          "data": {
            "text/plain": [
              "[[1, 30],\n",
              " [1, 40],\n",
              " [1, 31],\n",
              " [0, 8],\n",
              " [0, 26],\n",
              " [0, 82],\n",
              " [0, 40],\n",
              " [1, 79],\n",
              " [1, 28],\n",
              " [0, 27]]"
            ]
          },
          "metadata": {},
          "execution_count": 12
        }
      ]
    },
    {
      "cell_type": "code",
      "source": [
        "import numpy as np"
      ],
      "metadata": {
        "id": "A2NTW2JeIPJF"
      },
      "execution_count": 13,
      "outputs": []
    },
    {
      "cell_type": "code",
      "source": [
        "def split_data(images, labels, train_size=0.6, validation_size=0.2, shuffle=True):\n",
        "    np.random.seed(42)\n",
        "    # 1. Get the total size of the dataset\n",
        "    size = len(images)\n",
        "    # 2. Make an indices array and shuffle it, if required\n",
        "    indices = np.arange(size)\n",
        "    if shuffle:\n",
        "        np.random.shuffle(indices)\n",
        "    # 3. Get the sizes of training, validation, and test samples\n",
        "    train_samples = int(size * train_size)\n",
        "    validation_samples = int(size * validation_size)\n",
        "    # 4. Split data into training, validation, and test sets\n",
        "    x_train, y_train = images[indices[:train_samples]], labels[indices[:train_samples]]\n",
        "    x_valid, y_valid = images[indices[train_samples:(train_samples + validation_samples)]], labels[indices[train_samples:(train_samples + validation_samples)]]\n",
        "    x_test, y_test = images[indices[(train_samples + validation_samples):]], labels[indices[(train_samples + validation_samples):]]\n",
        "    return x_train, x_valid, x_test, y_train, y_valid, y_test"
      ],
      "metadata": {
        "id": "EsE4ISn0Hl09"
      },
      "execution_count": 14,
      "outputs": []
    },
    {
      "cell_type": "code",
      "source": [
        "# Splitting data into training, validation, and test sets\n",
        "x_train, x_valid, x_test, y_train, y_valid, y_test = split_data(np.array(image_paths), np.array(gender_age_labels), train_size=0.6, validation_size=0.2)"
      ],
      "metadata": {
        "id": "ZSE5GsU8ISgX"
      },
      "execution_count": 15,
      "outputs": []
    },
    {
      "cell_type": "code",
      "source": [
        "import tensorflow as tf"
      ],
      "metadata": {
        "id": "btsp65psIswz"
      },
      "execution_count": 16,
      "outputs": []
    },
    {
      "cell_type": "code",
      "source": [
        "def preprocess_image(image, target_size=(200, 200)):\n",
        "    # Normalize pixel values to range [0, 1]\n",
        "    image = tf.cast(image, tf.float32) / 255.0\n",
        "\n",
        "    # Resize the image\n",
        "    image = tf.image.resize(image, target_size)\n",
        "\n",
        "    # Convert to grayscale\n",
        "    # image = tf.image.rgb_to_grayscale(image)\n",
        "\n",
        "    # Remove blurriness and noise using Gaussian blur\n",
        "    image = tf.image.random_brightness(image, max_delta=0.5)  # Adjust brightness\n",
        "    image = tf.image.random_contrast(image, lower=0.2, upper=1.8)  # Adjust contrast\n",
        "\n",
        "    return image\n",
        "\n",
        "def preprocess_data(image_path, gender_age_label):\n",
        "    image = tf.io.read_file(image_path)\n",
        "    image = tf.image.decode_jpeg(image, channels=3)\n",
        "    image = preprocess_image(image)\n",
        "    gender_label = gender_age_label[0]  # Extract gender label\n",
        "    age_label = gender_age_label[1]     # Extract age label\n",
        "    return image, (gender_label, age_label)\n",
        "\n",
        "\n",
        "# def load_and_preprocess_image(image_path, label):\n",
        "#     image = tf.io.read_file(image_path)\n",
        "#     image = tf.image.decode_jpeg(image, channels=3)  # Decode JPEG images\n",
        "#     image = preprocess_image(image)  # Preprocess the image\n",
        "#     return image, label"
      ],
      "metadata": {
        "id": "N5HtXjbiJMsf"
      },
      "execution_count": 17,
      "outputs": []
    },
    {
      "cell_type": "code",
      "source": [
        "\n",
        "batch_size = 32\n",
        "train_dataset = tf.data.Dataset.from_tensor_slices((x_train, y_train))\n",
        "train_dataset = (\n",
        "    train_dataset.map(preprocess_data, num_parallel_calls=tf.data.AUTOTUNE)\n",
        "    .batch(batch_size)\n",
        "    .prefetch(buffer_size=tf.data.AUTOTUNE)\n",
        ")\n",
        "\n",
        "validation_dataset = tf.data.Dataset.from_tensor_slices((x_valid, y_valid))\n",
        "validation_dataset = (\n",
        "    validation_dataset.map(preprocess_data, num_parallel_calls=tf.data.AUTOTUNE)\n",
        "    .batch(batch_size)\n",
        "    .prefetch(buffer_size=tf.data.AUTOTUNE)\n",
        ")\n",
        "\n",
        "test_dataset = tf.data.Dataset.from_tensor_slices((x_test, y_test))\n",
        "test_dataset = (\n",
        "    test_dataset.map(preprocess_data, num_parallel_calls=tf.data.AUTOTUNE)\n",
        "    .batch(batch_size)\n",
        "    .prefetch(buffer_size=tf.data.AUTOTUNE)\n",
        ")"
      ],
      "metadata": {
        "id": "RNQkq5NDIo9c"
      },
      "execution_count": 18,
      "outputs": []
    },
    {
      "cell_type": "code",
      "source": [
        "# Setup base model and freeze its layers (this will extract features)\n",
        "base_model = tf.keras.applications.efficientnet.EfficientNetB7(include_top=False)\n",
        "base_model.trainable = False"
      ],
      "metadata": {
        "id": "NvlvAqTcCmiP",
        "colab": {
          "base_uri": "https://localhost:8080/"
        },
        "outputId": "3e5f2aa7-c978-4bdc-e286-dee3cdc1dff3"
      },
      "execution_count": 19,
      "outputs": [
        {
          "output_type": "stream",
          "name": "stdout",
          "text": [
            "Downloading data from https://storage.googleapis.com/keras-applications/efficientnetb7_notop.h5\n",
            "258076736/258076736 [==============================] - 4s 0us/step\n"
          ]
        }
      ]
    },
    {
      "cell_type": "code",
      "source": [],
      "metadata": {
        "id": "H-A_bR6SC3U_"
      },
      "execution_count": 19,
      "outputs": []
    },
    {
      "cell_type": "code",
      "source": [
        "from tensorflow.keras.initializers import glorot_uniform\n",
        "from tensorflow.keras.layers import Dropout, Input, Dense, Activation, BatchNormalization, Flatten, Conv2D, MaxPooling2D\n",
        "from tensorflow.keras.models import Model\n",
        "\n",
        "input_size = (200, 200, 3)\n",
        "inputs = Input(shape=input_size)\n",
        "X = base_model(inputs,training=False)\n",
        "X = Conv2D(64, (3, 3), activation='relu', kernel_initializer=glorot_uniform(seed=0))(inputs)\n",
        "X = BatchNormalization(axis=3)(X)\n",
        "X = MaxPooling2D((3, 3))(X)\n",
        "\n",
        "X = Conv2D(128, (3, 3), activation='relu')(X)\n",
        "X = MaxPooling2D((2, 2), strides=(2, 2))(X)\n",
        "\n",
        "X = Conv2D(256, (3, 3), activation='relu')(X)\n",
        "X = MaxPooling2D((2, 2))(X)\n",
        "\n",
        "X = Flatten()(X)\n",
        "\n",
        "dense_1 = Dense(256, activation='relu')(X)\n",
        "dense_2 = Dense(256, activation='relu')(X)\n",
        "dense_3 = Dense(128, activation='relu')(dense_2)\n",
        "dropout_1 = Dropout(0.4)(dense_1)\n",
        "dropout_2 = Dropout(0.4)(dense_3)\n",
        "\n",
        "# Gender output\n",
        "output_gender = Dense(1, activation='sigmoid', name='gender_output')(dropout_1)\n",
        "\n",
        "# Age output\n",
        "output_age = Dense(1, activation='linear', name='age_output')(dropout_2)\n",
        "\n",
        "model = Model(inputs=[inputs], outputs=[output_gender, output_age])\n"
      ],
      "metadata": {
        "id": "Gi7xzxuTLSfZ"
      },
      "execution_count": 20,
      "outputs": []
    },
    {
      "cell_type": "code",
      "source": [
        "model.compile(loss=['binary_crossentropy','mse'], optimizer='adam', metrics=['accuracy'])"
      ],
      "metadata": {
        "id": "C5WX8-cFJpMa"
      },
      "execution_count": 21,
      "outputs": []
    },
    {
      "cell_type": "code",
      "source": [
        "from tensorflow.keras.callbacks import ModelCheckpoint\n",
        "filepath = \"drive/MyDrive/model_03_weights.h5\"\n",
        "checkpoint_callback = ModelCheckpoint(\n",
        "    filepath=filepath,\n",
        "    monitor='val_age_output_loss',\n",
        "    save_best_only=True,\n",
        "    save_weights_only=True,\n",
        "    verbose=1\n",
        ")"
      ],
      "metadata": {
        "id": "Ps0xT4A6X_3_"
      },
      "execution_count": 22,
      "outputs": []
    },
    {
      "cell_type": "code",
      "source": [
        "history = model.fit(train_dataset, batch_size = 32, epochs=15, validation_data = validation_dataset, callbacks=[checkpoint_callback])"
      ],
      "metadata": {
        "colab": {
          "base_uri": "https://localhost:8080/"
        },
        "id": "chsfq0SbKEKt",
        "outputId": "3068b9a9-54a5-4146-f36a-69c83b17cebe"
      },
      "execution_count": 23,
      "outputs": [
        {
          "output_type": "stream",
          "name": "stdout",
          "text": [
            "Epoch 1/15\n",
            "445/445 [==============================] - ETA: 0s - loss: 445.6602 - gender_output_loss: 0.6667 - age_output_loss: 444.9936 - gender_output_accuracy: 0.6477 - age_output_accuracy: 0.0481\n",
            "Epoch 1: val_age_output_loss improved from inf to 502.90857, saving model to drive/MyDrive/model_03_weights.h5\n",
            "445/445 [==============================] - 55s 88ms/step - loss: 445.6602 - gender_output_loss: 0.6667 - age_output_loss: 444.9936 - gender_output_accuracy: 0.6477 - age_output_accuracy: 0.0481 - val_loss: 503.4946 - val_gender_output_loss: 0.5861 - val_age_output_loss: 502.9086 - val_gender_output_accuracy: 0.6815 - val_age_output_accuracy: 0.0513\n",
            "Epoch 2/15\n",
            "445/445 [==============================] - ETA: 0s - loss: 275.9884 - gender_output_loss: 0.5083 - age_output_loss: 275.4799 - gender_output_accuracy: 0.7368 - age_output_accuracy: 0.0458\n",
            "Epoch 2: val_age_output_loss improved from 502.90857 to 293.71854, saving model to drive/MyDrive/model_03_weights.h5\n",
            "445/445 [==============================] - 44s 99ms/step - loss: 275.9884 - gender_output_loss: 0.5083 - age_output_loss: 275.4799 - gender_output_accuracy: 0.7368 - age_output_accuracy: 0.0458 - val_loss: 294.1555 - val_gender_output_loss: 0.4369 - val_age_output_loss: 293.7185 - val_gender_output_accuracy: 0.7849 - val_age_output_accuracy: 0.0513\n",
            "Epoch 3/15\n",
            "444/445 [============================>.] - ETA: 0s - loss: 222.7401 - gender_output_loss: 0.4418 - age_output_loss: 222.2982 - gender_output_accuracy: 0.7843 - age_output_accuracy: 0.0382\n",
            "Epoch 3: val_age_output_loss improved from 293.71854 to 236.76880, saving model to drive/MyDrive/model_03_weights.h5\n",
            "445/445 [==============================] - 41s 91ms/step - loss: 222.6976 - gender_output_loss: 0.4417 - age_output_loss: 222.2559 - gender_output_accuracy: 0.7843 - age_output_accuracy: 0.0382 - val_loss: 237.1626 - val_gender_output_loss: 0.3938 - val_age_output_loss: 236.7688 - val_gender_output_accuracy: 0.8089 - val_age_output_accuracy: 0.0310\n",
            "Epoch 4/15\n",
            "444/445 [============================>.] - ETA: 0s - loss: 195.6542 - gender_output_loss: 0.4176 - age_output_loss: 195.2367 - gender_output_accuracy: 0.8055 - age_output_accuracy: 0.0333\n",
            "Epoch 4: val_age_output_loss improved from 236.76880 to 154.67921, saving model to drive/MyDrive/model_03_weights.h5\n",
            "445/445 [==============================] - 39s 87ms/step - loss: 195.6666 - gender_output_loss: 0.4175 - age_output_loss: 195.2492 - gender_output_accuracy: 0.8055 - age_output_accuracy: 0.0333 - val_loss: 155.0775 - val_gender_output_loss: 0.3983 - val_age_output_loss: 154.6792 - val_gender_output_accuracy: 0.7922 - val_age_output_accuracy: 0.0312\n",
            "Epoch 5/15\n",
            "444/445 [============================>.] - ETA: 0s - loss: 163.1631 - gender_output_loss: 0.3919 - age_output_loss: 162.7712 - gender_output_accuracy: 0.8094 - age_output_accuracy: 0.0336\n",
            "Epoch 5: val_age_output_loss improved from 154.67921 to 148.12302, saving model to drive/MyDrive/model_03_weights.h5\n",
            "445/445 [==============================] - 40s 91ms/step - loss: 163.2186 - gender_output_loss: 0.3917 - age_output_loss: 162.8269 - gender_output_accuracy: 0.8095 - age_output_accuracy: 0.0336 - val_loss: 148.4632 - val_gender_output_loss: 0.3402 - val_age_output_loss: 148.1230 - val_gender_output_accuracy: 0.8572 - val_age_output_accuracy: 0.0308\n",
            "Epoch 6/15\n",
            "444/445 [============================>.] - ETA: 0s - loss: 152.4953 - gender_output_loss: 0.3731 - age_output_loss: 152.1222 - gender_output_accuracy: 0.8243 - age_output_accuracy: 0.0314\n",
            "Epoch 6: val_age_output_loss improved from 148.12302 to 132.38716, saving model to drive/MyDrive/model_03_weights.h5\n",
            "445/445 [==============================] - 40s 90ms/step - loss: 152.4294 - gender_output_loss: 0.3730 - age_output_loss: 152.0564 - gender_output_accuracy: 0.8244 - age_output_accuracy: 0.0314 - val_loss: 132.7218 - val_gender_output_loss: 0.3346 - val_age_output_loss: 132.3872 - val_gender_output_accuracy: 0.8551 - val_age_output_accuracy: 0.0468\n",
            "Epoch 7/15\n",
            "444/445 [============================>.] - ETA: 0s - loss: 144.7824 - gender_output_loss: 0.3652 - age_output_loss: 144.4172 - gender_output_accuracy: 0.8327 - age_output_accuracy: 0.0323\n",
            "Epoch 7: val_age_output_loss improved from 132.38716 to 112.25697, saving model to drive/MyDrive/model_03_weights.h5\n",
            "445/445 [==============================] - 39s 88ms/step - loss: 144.7192 - gender_output_loss: 0.3651 - age_output_loss: 144.3540 - gender_output_accuracy: 0.8327 - age_output_accuracy: 0.0323 - val_loss: 112.5779 - val_gender_output_loss: 0.3209 - val_age_output_loss: 112.2570 - val_gender_output_accuracy: 0.8551 - val_age_output_accuracy: 0.0272\n",
            "Epoch 8/15\n",
            "444/445 [============================>.] - ETA: 0s - loss: 134.8156 - gender_output_loss: 0.3540 - age_output_loss: 134.4616 - gender_output_accuracy: 0.8347 - age_output_accuracy: 0.0317\n",
            "Epoch 8: val_age_output_loss did not improve from 112.25697\n",
            "445/445 [==============================] - 36s 81ms/step - loss: 134.8068 - gender_output_loss: 0.3537 - age_output_loss: 134.4530 - gender_output_accuracy: 0.8348 - age_output_accuracy: 0.0317 - val_loss: 116.4412 - val_gender_output_loss: 0.3239 - val_age_output_loss: 116.1173 - val_gender_output_accuracy: 0.8591 - val_age_output_accuracy: 0.0162\n",
            "Epoch 9/15\n",
            "444/445 [============================>.] - ETA: 0s - loss: 125.8660 - gender_output_loss: 0.3436 - age_output_loss: 125.5224 - gender_output_accuracy: 0.8353 - age_output_accuracy: 0.0306\n",
            "Epoch 9: val_age_output_loss did not improve from 112.25697\n",
            "445/445 [==============================] - 38s 86ms/step - loss: 125.8403 - gender_output_loss: 0.3433 - age_output_loss: 125.4970 - gender_output_accuracy: 0.8354 - age_output_accuracy: 0.0306 - val_loss: 116.0655 - val_gender_output_loss: 0.3360 - val_age_output_loss: 115.7295 - val_gender_output_accuracy: 0.8471 - val_age_output_accuracy: 0.0399\n",
            "Epoch 10/15\n",
            "444/445 [============================>.] - ETA: 0s - loss: 118.1729 - gender_output_loss: 0.3397 - age_output_loss: 117.8333 - gender_output_accuracy: 0.8431 - age_output_accuracy: 0.0339\n",
            "Epoch 10: val_age_output_loss improved from 112.25697 to 108.46158, saving model to drive/MyDrive/model_03_weights.h5\n",
            "445/445 [==============================] - 37s 84ms/step - loss: 118.1236 - gender_output_loss: 0.3396 - age_output_loss: 117.7841 - gender_output_accuracy: 0.8432 - age_output_accuracy: 0.0340 - val_loss: 108.7841 - val_gender_output_loss: 0.3226 - val_age_output_loss: 108.4616 - val_gender_output_accuracy: 0.8553 - val_age_output_accuracy: 0.0314\n",
            "Epoch 11/15\n",
            "444/445 [============================>.] - ETA: 0s - loss: 115.1792 - gender_output_loss: 0.3339 - age_output_loss: 114.8453 - gender_output_accuracy: 0.8436 - age_output_accuracy: 0.0348\n",
            "Epoch 11: val_age_output_loss did not improve from 108.46158\n",
            "445/445 [==============================] - 38s 86ms/step - loss: 115.1918 - gender_output_loss: 0.3337 - age_output_loss: 114.8581 - gender_output_accuracy: 0.8436 - age_output_accuracy: 0.0348 - val_loss: 153.8470 - val_gender_output_loss: 0.3392 - val_age_output_loss: 153.5078 - val_gender_output_accuracy: 0.8500 - val_age_output_accuracy: 0.0513\n",
            "Epoch 12/15\n",
            "444/445 [============================>.] - ETA: 0s - loss: 112.1305 - gender_output_loss: 0.3230 - age_output_loss: 111.8076 - gender_output_accuracy: 0.8492 - age_output_accuracy: 0.0326\n",
            "Epoch 12: val_age_output_loss did not improve from 108.46158\n",
            "445/445 [==============================] - 38s 86ms/step - loss: 112.0596 - gender_output_loss: 0.3228 - age_output_loss: 111.7369 - gender_output_accuracy: 0.8492 - age_output_accuracy: 0.0326 - val_loss: 146.9693 - val_gender_output_loss: 0.3134 - val_age_output_loss: 146.6560 - val_gender_output_accuracy: 0.8597 - val_age_output_accuracy: 0.0513\n",
            "Epoch 13/15\n",
            "444/445 [============================>.] - ETA: 0s - loss: 109.6674 - gender_output_loss: 0.3134 - age_output_loss: 109.3539 - gender_output_accuracy: 0.8563 - age_output_accuracy: 0.0335\n",
            "Epoch 13: val_age_output_loss improved from 108.46158 to 97.34132, saving model to drive/MyDrive/model_03_weights.h5\n",
            "445/445 [==============================] - 37s 83ms/step - loss: 109.5993 - gender_output_loss: 0.3133 - age_output_loss: 109.2859 - gender_output_accuracy: 0.8564 - age_output_accuracy: 0.0335 - val_loss: 97.6459 - val_gender_output_loss: 0.3046 - val_age_output_loss: 97.3413 - val_gender_output_accuracy: 0.8659 - val_age_output_accuracy: 0.0361\n",
            "Epoch 14/15\n",
            "444/445 [============================>.] - ETA: 0s - loss: 105.0352 - gender_output_loss: 0.3133 - age_output_loss: 104.7220 - gender_output_accuracy: 0.8574 - age_output_accuracy: 0.0332\n",
            "Epoch 14: val_age_output_loss did not improve from 97.34132\n",
            "445/445 [==============================] - 35s 80ms/step - loss: 105.0120 - gender_output_loss: 0.3131 - age_output_loss: 104.6990 - gender_output_accuracy: 0.8576 - age_output_accuracy: 0.0332 - val_loss: 114.3358 - val_gender_output_loss: 0.3243 - val_age_output_loss: 114.0115 - val_gender_output_accuracy: 0.8608 - val_age_output_accuracy: 0.0367\n",
            "Epoch 15/15\n",
            "444/445 [============================>.] - ETA: 0s - loss: 99.0572 - gender_output_loss: 0.3019 - age_output_loss: 98.7553 - gender_output_accuracy: 0.8675 - age_output_accuracy: 0.0336\n",
            "Epoch 15: val_age_output_loss did not improve from 97.34132\n",
            "445/445 [==============================] - 36s 81ms/step - loss: 99.0161 - gender_output_loss: 0.3017 - age_output_loss: 98.7144 - gender_output_accuracy: 0.8677 - age_output_accuracy: 0.0336 - val_loss: 108.9621 - val_gender_output_loss: 0.3092 - val_age_output_loss: 108.6529 - val_gender_output_accuracy: 0.8650 - val_age_output_accuracy: 0.0494\n"
          ]
        }
      ]
    },
    {
      "cell_type": "code",
      "source": [
        "# Unfreeze all of the layers in the base model\n",
        "base_model.trainable = True\n",
        "\n",
        "# Refreeze every layer except for the last 5\n",
        "for layer in base_model.layers[:-5]:\n",
        "  layer.trainable = False"
      ],
      "metadata": {
        "id": "rljcAQQwDb5-"
      },
      "execution_count": 24,
      "outputs": []
    },
    {
      "cell_type": "code",
      "source": [
        "model.compile(loss=['binary_crossentropy','mse'], optimizer=tf.keras.optimizers.Adam(1e-4), metrics=['accuracy'])"
      ],
      "metadata": {
        "id": "Q8dFEtHhDbnm"
      },
      "execution_count": 25,
      "outputs": []
    },
    {
      "cell_type": "code",
      "source": [
        "# What layers in the model are trainable?\n",
        "for layer in model.layers:\n",
        "  print(layer.name, layer.trainable)"
      ],
      "metadata": {
        "colab": {
          "base_uri": "https://localhost:8080/"
        },
        "id": "IrD0NsJ5DmSh",
        "outputId": "ee84d8aa-65c0-405b-d0f3-ec373d1d229f"
      },
      "execution_count": 26,
      "outputs": [
        {
          "output_type": "stream",
          "name": "stdout",
          "text": [
            "input_2 True\n",
            "conv2d True\n",
            "batch_normalization True\n",
            "max_pooling2d True\n",
            "conv2d_1 True\n",
            "max_pooling2d_1 True\n",
            "conv2d_2 True\n",
            "max_pooling2d_2 True\n",
            "flatten True\n",
            "dense_1 True\n",
            "dense True\n",
            "dense_2 True\n",
            "dropout True\n",
            "dropout_1 True\n",
            "gender_output True\n",
            "age_output True\n"
          ]
        }
      ]
    },
    {
      "cell_type": "code",
      "source": [
        "# Check which layers are trainable\n",
        "for layer_number, layer in enumerate(base_model.layers):\n",
        "  print(layer_number, layer.name, layer.trainable)"
      ],
      "metadata": {
        "colab": {
          "base_uri": "https://localhost:8080/"
        },
        "id": "gidY1Js0DmXY",
        "outputId": "2e510e83-82a4-4ae7-de4b-12399672f4ec"
      },
      "execution_count": 27,
      "outputs": [
        {
          "output_type": "stream",
          "name": "stdout",
          "text": [
            "0 input_1 False\n",
            "1 rescaling False\n",
            "2 normalization False\n",
            "3 rescaling_1 False\n",
            "4 stem_conv_pad False\n",
            "5 stem_conv False\n",
            "6 stem_bn False\n",
            "7 stem_activation False\n",
            "8 block1a_dwconv False\n",
            "9 block1a_bn False\n",
            "10 block1a_activation False\n",
            "11 block1a_se_squeeze False\n",
            "12 block1a_se_reshape False\n",
            "13 block1a_se_reduce False\n",
            "14 block1a_se_expand False\n",
            "15 block1a_se_excite False\n",
            "16 block1a_project_conv False\n",
            "17 block1a_project_bn False\n",
            "18 block1b_dwconv False\n",
            "19 block1b_bn False\n",
            "20 block1b_activation False\n",
            "21 block1b_se_squeeze False\n",
            "22 block1b_se_reshape False\n",
            "23 block1b_se_reduce False\n",
            "24 block1b_se_expand False\n",
            "25 block1b_se_excite False\n",
            "26 block1b_project_conv False\n",
            "27 block1b_project_bn False\n",
            "28 block1b_drop False\n",
            "29 block1b_add False\n",
            "30 block1c_dwconv False\n",
            "31 block1c_bn False\n",
            "32 block1c_activation False\n",
            "33 block1c_se_squeeze False\n",
            "34 block1c_se_reshape False\n",
            "35 block1c_se_reduce False\n",
            "36 block1c_se_expand False\n",
            "37 block1c_se_excite False\n",
            "38 block1c_project_conv False\n",
            "39 block1c_project_bn False\n",
            "40 block1c_drop False\n",
            "41 block1c_add False\n",
            "42 block1d_dwconv False\n",
            "43 block1d_bn False\n",
            "44 block1d_activation False\n",
            "45 block1d_se_squeeze False\n",
            "46 block1d_se_reshape False\n",
            "47 block1d_se_reduce False\n",
            "48 block1d_se_expand False\n",
            "49 block1d_se_excite False\n",
            "50 block1d_project_conv False\n",
            "51 block1d_project_bn False\n",
            "52 block1d_drop False\n",
            "53 block1d_add False\n",
            "54 block2a_expand_conv False\n",
            "55 block2a_expand_bn False\n",
            "56 block2a_expand_activation False\n",
            "57 block2a_dwconv_pad False\n",
            "58 block2a_dwconv False\n",
            "59 block2a_bn False\n",
            "60 block2a_activation False\n",
            "61 block2a_se_squeeze False\n",
            "62 block2a_se_reshape False\n",
            "63 block2a_se_reduce False\n",
            "64 block2a_se_expand False\n",
            "65 block2a_se_excite False\n",
            "66 block2a_project_conv False\n",
            "67 block2a_project_bn False\n",
            "68 block2b_expand_conv False\n",
            "69 block2b_expand_bn False\n",
            "70 block2b_expand_activation False\n",
            "71 block2b_dwconv False\n",
            "72 block2b_bn False\n",
            "73 block2b_activation False\n",
            "74 block2b_se_squeeze False\n",
            "75 block2b_se_reshape False\n",
            "76 block2b_se_reduce False\n",
            "77 block2b_se_expand False\n",
            "78 block2b_se_excite False\n",
            "79 block2b_project_conv False\n",
            "80 block2b_project_bn False\n",
            "81 block2b_drop False\n",
            "82 block2b_add False\n",
            "83 block2c_expand_conv False\n",
            "84 block2c_expand_bn False\n",
            "85 block2c_expand_activation False\n",
            "86 block2c_dwconv False\n",
            "87 block2c_bn False\n",
            "88 block2c_activation False\n",
            "89 block2c_se_squeeze False\n",
            "90 block2c_se_reshape False\n",
            "91 block2c_se_reduce False\n",
            "92 block2c_se_expand False\n",
            "93 block2c_se_excite False\n",
            "94 block2c_project_conv False\n",
            "95 block2c_project_bn False\n",
            "96 block2c_drop False\n",
            "97 block2c_add False\n",
            "98 block2d_expand_conv False\n",
            "99 block2d_expand_bn False\n",
            "100 block2d_expand_activation False\n",
            "101 block2d_dwconv False\n",
            "102 block2d_bn False\n",
            "103 block2d_activation False\n",
            "104 block2d_se_squeeze False\n",
            "105 block2d_se_reshape False\n",
            "106 block2d_se_reduce False\n",
            "107 block2d_se_expand False\n",
            "108 block2d_se_excite False\n",
            "109 block2d_project_conv False\n",
            "110 block2d_project_bn False\n",
            "111 block2d_drop False\n",
            "112 block2d_add False\n",
            "113 block2e_expand_conv False\n",
            "114 block2e_expand_bn False\n",
            "115 block2e_expand_activation False\n",
            "116 block2e_dwconv False\n",
            "117 block2e_bn False\n",
            "118 block2e_activation False\n",
            "119 block2e_se_squeeze False\n",
            "120 block2e_se_reshape False\n",
            "121 block2e_se_reduce False\n",
            "122 block2e_se_expand False\n",
            "123 block2e_se_excite False\n",
            "124 block2e_project_conv False\n",
            "125 block2e_project_bn False\n",
            "126 block2e_drop False\n",
            "127 block2e_add False\n",
            "128 block2f_expand_conv False\n",
            "129 block2f_expand_bn False\n",
            "130 block2f_expand_activation False\n",
            "131 block2f_dwconv False\n",
            "132 block2f_bn False\n",
            "133 block2f_activation False\n",
            "134 block2f_se_squeeze False\n",
            "135 block2f_se_reshape False\n",
            "136 block2f_se_reduce False\n",
            "137 block2f_se_expand False\n",
            "138 block2f_se_excite False\n",
            "139 block2f_project_conv False\n",
            "140 block2f_project_bn False\n",
            "141 block2f_drop False\n",
            "142 block2f_add False\n",
            "143 block2g_expand_conv False\n",
            "144 block2g_expand_bn False\n",
            "145 block2g_expand_activation False\n",
            "146 block2g_dwconv False\n",
            "147 block2g_bn False\n",
            "148 block2g_activation False\n",
            "149 block2g_se_squeeze False\n",
            "150 block2g_se_reshape False\n",
            "151 block2g_se_reduce False\n",
            "152 block2g_se_expand False\n",
            "153 block2g_se_excite False\n",
            "154 block2g_project_conv False\n",
            "155 block2g_project_bn False\n",
            "156 block2g_drop False\n",
            "157 block2g_add False\n",
            "158 block3a_expand_conv False\n",
            "159 block3a_expand_bn False\n",
            "160 block3a_expand_activation False\n",
            "161 block3a_dwconv_pad False\n",
            "162 block3a_dwconv False\n",
            "163 block3a_bn False\n",
            "164 block3a_activation False\n",
            "165 block3a_se_squeeze False\n",
            "166 block3a_se_reshape False\n",
            "167 block3a_se_reduce False\n",
            "168 block3a_se_expand False\n",
            "169 block3a_se_excite False\n",
            "170 block3a_project_conv False\n",
            "171 block3a_project_bn False\n",
            "172 block3b_expand_conv False\n",
            "173 block3b_expand_bn False\n",
            "174 block3b_expand_activation False\n",
            "175 block3b_dwconv False\n",
            "176 block3b_bn False\n",
            "177 block3b_activation False\n",
            "178 block3b_se_squeeze False\n",
            "179 block3b_se_reshape False\n",
            "180 block3b_se_reduce False\n",
            "181 block3b_se_expand False\n",
            "182 block3b_se_excite False\n",
            "183 block3b_project_conv False\n",
            "184 block3b_project_bn False\n",
            "185 block3b_drop False\n",
            "186 block3b_add False\n",
            "187 block3c_expand_conv False\n",
            "188 block3c_expand_bn False\n",
            "189 block3c_expand_activation False\n",
            "190 block3c_dwconv False\n",
            "191 block3c_bn False\n",
            "192 block3c_activation False\n",
            "193 block3c_se_squeeze False\n",
            "194 block3c_se_reshape False\n",
            "195 block3c_se_reduce False\n",
            "196 block3c_se_expand False\n",
            "197 block3c_se_excite False\n",
            "198 block3c_project_conv False\n",
            "199 block3c_project_bn False\n",
            "200 block3c_drop False\n",
            "201 block3c_add False\n",
            "202 block3d_expand_conv False\n",
            "203 block3d_expand_bn False\n",
            "204 block3d_expand_activation False\n",
            "205 block3d_dwconv False\n",
            "206 block3d_bn False\n",
            "207 block3d_activation False\n",
            "208 block3d_se_squeeze False\n",
            "209 block3d_se_reshape False\n",
            "210 block3d_se_reduce False\n",
            "211 block3d_se_expand False\n",
            "212 block3d_se_excite False\n",
            "213 block3d_project_conv False\n",
            "214 block3d_project_bn False\n",
            "215 block3d_drop False\n",
            "216 block3d_add False\n",
            "217 block3e_expand_conv False\n",
            "218 block3e_expand_bn False\n",
            "219 block3e_expand_activation False\n",
            "220 block3e_dwconv False\n",
            "221 block3e_bn False\n",
            "222 block3e_activation False\n",
            "223 block3e_se_squeeze False\n",
            "224 block3e_se_reshape False\n",
            "225 block3e_se_reduce False\n",
            "226 block3e_se_expand False\n",
            "227 block3e_se_excite False\n",
            "228 block3e_project_conv False\n",
            "229 block3e_project_bn False\n",
            "230 block3e_drop False\n",
            "231 block3e_add False\n",
            "232 block3f_expand_conv False\n",
            "233 block3f_expand_bn False\n",
            "234 block3f_expand_activation False\n",
            "235 block3f_dwconv False\n",
            "236 block3f_bn False\n",
            "237 block3f_activation False\n",
            "238 block3f_se_squeeze False\n",
            "239 block3f_se_reshape False\n",
            "240 block3f_se_reduce False\n",
            "241 block3f_se_expand False\n",
            "242 block3f_se_excite False\n",
            "243 block3f_project_conv False\n",
            "244 block3f_project_bn False\n",
            "245 block3f_drop False\n",
            "246 block3f_add False\n",
            "247 block3g_expand_conv False\n",
            "248 block3g_expand_bn False\n",
            "249 block3g_expand_activation False\n",
            "250 block3g_dwconv False\n",
            "251 block3g_bn False\n",
            "252 block3g_activation False\n",
            "253 block3g_se_squeeze False\n",
            "254 block3g_se_reshape False\n",
            "255 block3g_se_reduce False\n",
            "256 block3g_se_expand False\n",
            "257 block3g_se_excite False\n",
            "258 block3g_project_conv False\n",
            "259 block3g_project_bn False\n",
            "260 block3g_drop False\n",
            "261 block3g_add False\n",
            "262 block4a_expand_conv False\n",
            "263 block4a_expand_bn False\n",
            "264 block4a_expand_activation False\n",
            "265 block4a_dwconv_pad False\n",
            "266 block4a_dwconv False\n",
            "267 block4a_bn False\n",
            "268 block4a_activation False\n",
            "269 block4a_se_squeeze False\n",
            "270 block4a_se_reshape False\n",
            "271 block4a_se_reduce False\n",
            "272 block4a_se_expand False\n",
            "273 block4a_se_excite False\n",
            "274 block4a_project_conv False\n",
            "275 block4a_project_bn False\n",
            "276 block4b_expand_conv False\n",
            "277 block4b_expand_bn False\n",
            "278 block4b_expand_activation False\n",
            "279 block4b_dwconv False\n",
            "280 block4b_bn False\n",
            "281 block4b_activation False\n",
            "282 block4b_se_squeeze False\n",
            "283 block4b_se_reshape False\n",
            "284 block4b_se_reduce False\n",
            "285 block4b_se_expand False\n",
            "286 block4b_se_excite False\n",
            "287 block4b_project_conv False\n",
            "288 block4b_project_bn False\n",
            "289 block4b_drop False\n",
            "290 block4b_add False\n",
            "291 block4c_expand_conv False\n",
            "292 block4c_expand_bn False\n",
            "293 block4c_expand_activation False\n",
            "294 block4c_dwconv False\n",
            "295 block4c_bn False\n",
            "296 block4c_activation False\n",
            "297 block4c_se_squeeze False\n",
            "298 block4c_se_reshape False\n",
            "299 block4c_se_reduce False\n",
            "300 block4c_se_expand False\n",
            "301 block4c_se_excite False\n",
            "302 block4c_project_conv False\n",
            "303 block4c_project_bn False\n",
            "304 block4c_drop False\n",
            "305 block4c_add False\n",
            "306 block4d_expand_conv False\n",
            "307 block4d_expand_bn False\n",
            "308 block4d_expand_activation False\n",
            "309 block4d_dwconv False\n",
            "310 block4d_bn False\n",
            "311 block4d_activation False\n",
            "312 block4d_se_squeeze False\n",
            "313 block4d_se_reshape False\n",
            "314 block4d_se_reduce False\n",
            "315 block4d_se_expand False\n",
            "316 block4d_se_excite False\n",
            "317 block4d_project_conv False\n",
            "318 block4d_project_bn False\n",
            "319 block4d_drop False\n",
            "320 block4d_add False\n",
            "321 block4e_expand_conv False\n",
            "322 block4e_expand_bn False\n",
            "323 block4e_expand_activation False\n",
            "324 block4e_dwconv False\n",
            "325 block4e_bn False\n",
            "326 block4e_activation False\n",
            "327 block4e_se_squeeze False\n",
            "328 block4e_se_reshape False\n",
            "329 block4e_se_reduce False\n",
            "330 block4e_se_expand False\n",
            "331 block4e_se_excite False\n",
            "332 block4e_project_conv False\n",
            "333 block4e_project_bn False\n",
            "334 block4e_drop False\n",
            "335 block4e_add False\n",
            "336 block4f_expand_conv False\n",
            "337 block4f_expand_bn False\n",
            "338 block4f_expand_activation False\n",
            "339 block4f_dwconv False\n",
            "340 block4f_bn False\n",
            "341 block4f_activation False\n",
            "342 block4f_se_squeeze False\n",
            "343 block4f_se_reshape False\n",
            "344 block4f_se_reduce False\n",
            "345 block4f_se_expand False\n",
            "346 block4f_se_excite False\n",
            "347 block4f_project_conv False\n",
            "348 block4f_project_bn False\n",
            "349 block4f_drop False\n",
            "350 block4f_add False\n",
            "351 block4g_expand_conv False\n",
            "352 block4g_expand_bn False\n",
            "353 block4g_expand_activation False\n",
            "354 block4g_dwconv False\n",
            "355 block4g_bn False\n",
            "356 block4g_activation False\n",
            "357 block4g_se_squeeze False\n",
            "358 block4g_se_reshape False\n",
            "359 block4g_se_reduce False\n",
            "360 block4g_se_expand False\n",
            "361 block4g_se_excite False\n",
            "362 block4g_project_conv False\n",
            "363 block4g_project_bn False\n",
            "364 block4g_drop False\n",
            "365 block4g_add False\n",
            "366 block4h_expand_conv False\n",
            "367 block4h_expand_bn False\n",
            "368 block4h_expand_activation False\n",
            "369 block4h_dwconv False\n",
            "370 block4h_bn False\n",
            "371 block4h_activation False\n",
            "372 block4h_se_squeeze False\n",
            "373 block4h_se_reshape False\n",
            "374 block4h_se_reduce False\n",
            "375 block4h_se_expand False\n",
            "376 block4h_se_excite False\n",
            "377 block4h_project_conv False\n",
            "378 block4h_project_bn False\n",
            "379 block4h_drop False\n",
            "380 block4h_add False\n",
            "381 block4i_expand_conv False\n",
            "382 block4i_expand_bn False\n",
            "383 block4i_expand_activation False\n",
            "384 block4i_dwconv False\n",
            "385 block4i_bn False\n",
            "386 block4i_activation False\n",
            "387 block4i_se_squeeze False\n",
            "388 block4i_se_reshape False\n",
            "389 block4i_se_reduce False\n",
            "390 block4i_se_expand False\n",
            "391 block4i_se_excite False\n",
            "392 block4i_project_conv False\n",
            "393 block4i_project_bn False\n",
            "394 block4i_drop False\n",
            "395 block4i_add False\n",
            "396 block4j_expand_conv False\n",
            "397 block4j_expand_bn False\n",
            "398 block4j_expand_activation False\n",
            "399 block4j_dwconv False\n",
            "400 block4j_bn False\n",
            "401 block4j_activation False\n",
            "402 block4j_se_squeeze False\n",
            "403 block4j_se_reshape False\n",
            "404 block4j_se_reduce False\n",
            "405 block4j_se_expand False\n",
            "406 block4j_se_excite False\n",
            "407 block4j_project_conv False\n",
            "408 block4j_project_bn False\n",
            "409 block4j_drop False\n",
            "410 block4j_add False\n",
            "411 block5a_expand_conv False\n",
            "412 block5a_expand_bn False\n",
            "413 block5a_expand_activation False\n",
            "414 block5a_dwconv False\n",
            "415 block5a_bn False\n",
            "416 block5a_activation False\n",
            "417 block5a_se_squeeze False\n",
            "418 block5a_se_reshape False\n",
            "419 block5a_se_reduce False\n",
            "420 block5a_se_expand False\n",
            "421 block5a_se_excite False\n",
            "422 block5a_project_conv False\n",
            "423 block5a_project_bn False\n",
            "424 block5b_expand_conv False\n",
            "425 block5b_expand_bn False\n",
            "426 block5b_expand_activation False\n",
            "427 block5b_dwconv False\n",
            "428 block5b_bn False\n",
            "429 block5b_activation False\n",
            "430 block5b_se_squeeze False\n",
            "431 block5b_se_reshape False\n",
            "432 block5b_se_reduce False\n",
            "433 block5b_se_expand False\n",
            "434 block5b_se_excite False\n",
            "435 block5b_project_conv False\n",
            "436 block5b_project_bn False\n",
            "437 block5b_drop False\n",
            "438 block5b_add False\n",
            "439 block5c_expand_conv False\n",
            "440 block5c_expand_bn False\n",
            "441 block5c_expand_activation False\n",
            "442 block5c_dwconv False\n",
            "443 block5c_bn False\n",
            "444 block5c_activation False\n",
            "445 block5c_se_squeeze False\n",
            "446 block5c_se_reshape False\n",
            "447 block5c_se_reduce False\n",
            "448 block5c_se_expand False\n",
            "449 block5c_se_excite False\n",
            "450 block5c_project_conv False\n",
            "451 block5c_project_bn False\n",
            "452 block5c_drop False\n",
            "453 block5c_add False\n",
            "454 block5d_expand_conv False\n",
            "455 block5d_expand_bn False\n",
            "456 block5d_expand_activation False\n",
            "457 block5d_dwconv False\n",
            "458 block5d_bn False\n",
            "459 block5d_activation False\n",
            "460 block5d_se_squeeze False\n",
            "461 block5d_se_reshape False\n",
            "462 block5d_se_reduce False\n",
            "463 block5d_se_expand False\n",
            "464 block5d_se_excite False\n",
            "465 block5d_project_conv False\n",
            "466 block5d_project_bn False\n",
            "467 block5d_drop False\n",
            "468 block5d_add False\n",
            "469 block5e_expand_conv False\n",
            "470 block5e_expand_bn False\n",
            "471 block5e_expand_activation False\n",
            "472 block5e_dwconv False\n",
            "473 block5e_bn False\n",
            "474 block5e_activation False\n",
            "475 block5e_se_squeeze False\n",
            "476 block5e_se_reshape False\n",
            "477 block5e_se_reduce False\n",
            "478 block5e_se_expand False\n",
            "479 block5e_se_excite False\n",
            "480 block5e_project_conv False\n",
            "481 block5e_project_bn False\n",
            "482 block5e_drop False\n",
            "483 block5e_add False\n",
            "484 block5f_expand_conv False\n",
            "485 block5f_expand_bn False\n",
            "486 block5f_expand_activation False\n",
            "487 block5f_dwconv False\n",
            "488 block5f_bn False\n",
            "489 block5f_activation False\n",
            "490 block5f_se_squeeze False\n",
            "491 block5f_se_reshape False\n",
            "492 block5f_se_reduce False\n",
            "493 block5f_se_expand False\n",
            "494 block5f_se_excite False\n",
            "495 block5f_project_conv False\n",
            "496 block5f_project_bn False\n",
            "497 block5f_drop False\n",
            "498 block5f_add False\n",
            "499 block5g_expand_conv False\n",
            "500 block5g_expand_bn False\n",
            "501 block5g_expand_activation False\n",
            "502 block5g_dwconv False\n",
            "503 block5g_bn False\n",
            "504 block5g_activation False\n",
            "505 block5g_se_squeeze False\n",
            "506 block5g_se_reshape False\n",
            "507 block5g_se_reduce False\n",
            "508 block5g_se_expand False\n",
            "509 block5g_se_excite False\n",
            "510 block5g_project_conv False\n",
            "511 block5g_project_bn False\n",
            "512 block5g_drop False\n",
            "513 block5g_add False\n",
            "514 block5h_expand_conv False\n",
            "515 block5h_expand_bn False\n",
            "516 block5h_expand_activation False\n",
            "517 block5h_dwconv False\n",
            "518 block5h_bn False\n",
            "519 block5h_activation False\n",
            "520 block5h_se_squeeze False\n",
            "521 block5h_se_reshape False\n",
            "522 block5h_se_reduce False\n",
            "523 block5h_se_expand False\n",
            "524 block5h_se_excite False\n",
            "525 block5h_project_conv False\n",
            "526 block5h_project_bn False\n",
            "527 block5h_drop False\n",
            "528 block5h_add False\n",
            "529 block5i_expand_conv False\n",
            "530 block5i_expand_bn False\n",
            "531 block5i_expand_activation False\n",
            "532 block5i_dwconv False\n",
            "533 block5i_bn False\n",
            "534 block5i_activation False\n",
            "535 block5i_se_squeeze False\n",
            "536 block5i_se_reshape False\n",
            "537 block5i_se_reduce False\n",
            "538 block5i_se_expand False\n",
            "539 block5i_se_excite False\n",
            "540 block5i_project_conv False\n",
            "541 block5i_project_bn False\n",
            "542 block5i_drop False\n",
            "543 block5i_add False\n",
            "544 block5j_expand_conv False\n",
            "545 block5j_expand_bn False\n",
            "546 block5j_expand_activation False\n",
            "547 block5j_dwconv False\n",
            "548 block5j_bn False\n",
            "549 block5j_activation False\n",
            "550 block5j_se_squeeze False\n",
            "551 block5j_se_reshape False\n",
            "552 block5j_se_reduce False\n",
            "553 block5j_se_expand False\n",
            "554 block5j_se_excite False\n",
            "555 block5j_project_conv False\n",
            "556 block5j_project_bn False\n",
            "557 block5j_drop False\n",
            "558 block5j_add False\n",
            "559 block6a_expand_conv False\n",
            "560 block6a_expand_bn False\n",
            "561 block6a_expand_activation False\n",
            "562 block6a_dwconv_pad False\n",
            "563 block6a_dwconv False\n",
            "564 block6a_bn False\n",
            "565 block6a_activation False\n",
            "566 block6a_se_squeeze False\n",
            "567 block6a_se_reshape False\n",
            "568 block6a_se_reduce False\n",
            "569 block6a_se_expand False\n",
            "570 block6a_se_excite False\n",
            "571 block6a_project_conv False\n",
            "572 block6a_project_bn False\n",
            "573 block6b_expand_conv False\n",
            "574 block6b_expand_bn False\n",
            "575 block6b_expand_activation False\n",
            "576 block6b_dwconv False\n",
            "577 block6b_bn False\n",
            "578 block6b_activation False\n",
            "579 block6b_se_squeeze False\n",
            "580 block6b_se_reshape False\n",
            "581 block6b_se_reduce False\n",
            "582 block6b_se_expand False\n",
            "583 block6b_se_excite False\n",
            "584 block6b_project_conv False\n",
            "585 block6b_project_bn False\n",
            "586 block6b_drop False\n",
            "587 block6b_add False\n",
            "588 block6c_expand_conv False\n",
            "589 block6c_expand_bn False\n",
            "590 block6c_expand_activation False\n",
            "591 block6c_dwconv False\n",
            "592 block6c_bn False\n",
            "593 block6c_activation False\n",
            "594 block6c_se_squeeze False\n",
            "595 block6c_se_reshape False\n",
            "596 block6c_se_reduce False\n",
            "597 block6c_se_expand False\n",
            "598 block6c_se_excite False\n",
            "599 block6c_project_conv False\n",
            "600 block6c_project_bn False\n",
            "601 block6c_drop False\n",
            "602 block6c_add False\n",
            "603 block6d_expand_conv False\n",
            "604 block6d_expand_bn False\n",
            "605 block6d_expand_activation False\n",
            "606 block6d_dwconv False\n",
            "607 block6d_bn False\n",
            "608 block6d_activation False\n",
            "609 block6d_se_squeeze False\n",
            "610 block6d_se_reshape False\n",
            "611 block6d_se_reduce False\n",
            "612 block6d_se_expand False\n",
            "613 block6d_se_excite False\n",
            "614 block6d_project_conv False\n",
            "615 block6d_project_bn False\n",
            "616 block6d_drop False\n",
            "617 block6d_add False\n",
            "618 block6e_expand_conv False\n",
            "619 block6e_expand_bn False\n",
            "620 block6e_expand_activation False\n",
            "621 block6e_dwconv False\n",
            "622 block6e_bn False\n",
            "623 block6e_activation False\n",
            "624 block6e_se_squeeze False\n",
            "625 block6e_se_reshape False\n",
            "626 block6e_se_reduce False\n",
            "627 block6e_se_expand False\n",
            "628 block6e_se_excite False\n",
            "629 block6e_project_conv False\n",
            "630 block6e_project_bn False\n",
            "631 block6e_drop False\n",
            "632 block6e_add False\n",
            "633 block6f_expand_conv False\n",
            "634 block6f_expand_bn False\n",
            "635 block6f_expand_activation False\n",
            "636 block6f_dwconv False\n",
            "637 block6f_bn False\n",
            "638 block6f_activation False\n",
            "639 block6f_se_squeeze False\n",
            "640 block6f_se_reshape False\n",
            "641 block6f_se_reduce False\n",
            "642 block6f_se_expand False\n",
            "643 block6f_se_excite False\n",
            "644 block6f_project_conv False\n",
            "645 block6f_project_bn False\n",
            "646 block6f_drop False\n",
            "647 block6f_add False\n",
            "648 block6g_expand_conv False\n",
            "649 block6g_expand_bn False\n",
            "650 block6g_expand_activation False\n",
            "651 block6g_dwconv False\n",
            "652 block6g_bn False\n",
            "653 block6g_activation False\n",
            "654 block6g_se_squeeze False\n",
            "655 block6g_se_reshape False\n",
            "656 block6g_se_reduce False\n",
            "657 block6g_se_expand False\n",
            "658 block6g_se_excite False\n",
            "659 block6g_project_conv False\n",
            "660 block6g_project_bn False\n",
            "661 block6g_drop False\n",
            "662 block6g_add False\n",
            "663 block6h_expand_conv False\n",
            "664 block6h_expand_bn False\n",
            "665 block6h_expand_activation False\n",
            "666 block6h_dwconv False\n",
            "667 block6h_bn False\n",
            "668 block6h_activation False\n",
            "669 block6h_se_squeeze False\n",
            "670 block6h_se_reshape False\n",
            "671 block6h_se_reduce False\n",
            "672 block6h_se_expand False\n",
            "673 block6h_se_excite False\n",
            "674 block6h_project_conv False\n",
            "675 block6h_project_bn False\n",
            "676 block6h_drop False\n",
            "677 block6h_add False\n",
            "678 block6i_expand_conv False\n",
            "679 block6i_expand_bn False\n",
            "680 block6i_expand_activation False\n",
            "681 block6i_dwconv False\n",
            "682 block6i_bn False\n",
            "683 block6i_activation False\n",
            "684 block6i_se_squeeze False\n",
            "685 block6i_se_reshape False\n",
            "686 block6i_se_reduce False\n",
            "687 block6i_se_expand False\n",
            "688 block6i_se_excite False\n",
            "689 block6i_project_conv False\n",
            "690 block6i_project_bn False\n",
            "691 block6i_drop False\n",
            "692 block6i_add False\n",
            "693 block6j_expand_conv False\n",
            "694 block6j_expand_bn False\n",
            "695 block6j_expand_activation False\n",
            "696 block6j_dwconv False\n",
            "697 block6j_bn False\n",
            "698 block6j_activation False\n",
            "699 block6j_se_squeeze False\n",
            "700 block6j_se_reshape False\n",
            "701 block6j_se_reduce False\n",
            "702 block6j_se_expand False\n",
            "703 block6j_se_excite False\n",
            "704 block6j_project_conv False\n",
            "705 block6j_project_bn False\n",
            "706 block6j_drop False\n",
            "707 block6j_add False\n",
            "708 block6k_expand_conv False\n",
            "709 block6k_expand_bn False\n",
            "710 block6k_expand_activation False\n",
            "711 block6k_dwconv False\n",
            "712 block6k_bn False\n",
            "713 block6k_activation False\n",
            "714 block6k_se_squeeze False\n",
            "715 block6k_se_reshape False\n",
            "716 block6k_se_reduce False\n",
            "717 block6k_se_expand False\n",
            "718 block6k_se_excite False\n",
            "719 block6k_project_conv False\n",
            "720 block6k_project_bn False\n",
            "721 block6k_drop False\n",
            "722 block6k_add False\n",
            "723 block6l_expand_conv False\n",
            "724 block6l_expand_bn False\n",
            "725 block6l_expand_activation False\n",
            "726 block6l_dwconv False\n",
            "727 block6l_bn False\n",
            "728 block6l_activation False\n",
            "729 block6l_se_squeeze False\n",
            "730 block6l_se_reshape False\n",
            "731 block6l_se_reduce False\n",
            "732 block6l_se_expand False\n",
            "733 block6l_se_excite False\n",
            "734 block6l_project_conv False\n",
            "735 block6l_project_bn False\n",
            "736 block6l_drop False\n",
            "737 block6l_add False\n",
            "738 block6m_expand_conv False\n",
            "739 block6m_expand_bn False\n",
            "740 block6m_expand_activation False\n",
            "741 block6m_dwconv False\n",
            "742 block6m_bn False\n",
            "743 block6m_activation False\n",
            "744 block6m_se_squeeze False\n",
            "745 block6m_se_reshape False\n",
            "746 block6m_se_reduce False\n",
            "747 block6m_se_expand False\n",
            "748 block6m_se_excite False\n",
            "749 block6m_project_conv False\n",
            "750 block6m_project_bn False\n",
            "751 block6m_drop False\n",
            "752 block6m_add False\n",
            "753 block7a_expand_conv False\n",
            "754 block7a_expand_bn False\n",
            "755 block7a_expand_activation False\n",
            "756 block7a_dwconv False\n",
            "757 block7a_bn False\n",
            "758 block7a_activation False\n",
            "759 block7a_se_squeeze False\n",
            "760 block7a_se_reshape False\n",
            "761 block7a_se_reduce False\n",
            "762 block7a_se_expand False\n",
            "763 block7a_se_excite False\n",
            "764 block7a_project_conv False\n",
            "765 block7a_project_bn False\n",
            "766 block7b_expand_conv False\n",
            "767 block7b_expand_bn False\n",
            "768 block7b_expand_activation False\n",
            "769 block7b_dwconv False\n",
            "770 block7b_bn False\n",
            "771 block7b_activation False\n",
            "772 block7b_se_squeeze False\n",
            "773 block7b_se_reshape False\n",
            "774 block7b_se_reduce False\n",
            "775 block7b_se_expand False\n",
            "776 block7b_se_excite False\n",
            "777 block7b_project_conv False\n",
            "778 block7b_project_bn False\n",
            "779 block7b_drop False\n",
            "780 block7b_add False\n",
            "781 block7c_expand_conv False\n",
            "782 block7c_expand_bn False\n",
            "783 block7c_expand_activation False\n",
            "784 block7c_dwconv False\n",
            "785 block7c_bn False\n",
            "786 block7c_activation False\n",
            "787 block7c_se_squeeze False\n",
            "788 block7c_se_reshape False\n",
            "789 block7c_se_reduce False\n",
            "790 block7c_se_expand False\n",
            "791 block7c_se_excite False\n",
            "792 block7c_project_conv False\n",
            "793 block7c_project_bn False\n",
            "794 block7c_drop False\n",
            "795 block7c_add False\n",
            "796 block7d_expand_conv False\n",
            "797 block7d_expand_bn False\n",
            "798 block7d_expand_activation False\n",
            "799 block7d_dwconv False\n",
            "800 block7d_bn False\n",
            "801 block7d_activation False\n",
            "802 block7d_se_squeeze False\n",
            "803 block7d_se_reshape False\n",
            "804 block7d_se_reduce False\n",
            "805 block7d_se_expand False\n",
            "806 block7d_se_excite False\n",
            "807 block7d_project_conv False\n",
            "808 block7d_project_bn False\n",
            "809 block7d_drop True\n",
            "810 block7d_add True\n",
            "811 top_conv True\n",
            "812 top_bn True\n",
            "813 top_activation True\n"
          ]
        }
      ]
    },
    {
      "cell_type": "code",
      "source": [
        "fine_tune_epochs = 10"
      ],
      "metadata": {
        "id": "mXofqRygDw5H"
      },
      "execution_count": 28,
      "outputs": []
    },
    {
      "cell_type": "code",
      "source": [
        "history = model.fit(train_dataset, batch_size = 32, epochs=fine_tune_epochs, validation_data = validation_dataset, callbacks=[checkpoint_callback])"
      ],
      "metadata": {
        "colab": {
          "base_uri": "https://localhost:8080/"
        },
        "id": "XHnnjKugDw1K",
        "outputId": "b1675fe6-b7e4-4f7a-c79f-b1f6bfce2c11"
      },
      "execution_count": 29,
      "outputs": [
        {
          "output_type": "stream",
          "name": "stdout",
          "text": [
            "Epoch 1/10\n",
            "444/445 [============================>.] - ETA: 0s - loss: 79.8534 - gender_output_loss: 0.2740 - age_output_loss: 79.5793 - gender_output_accuracy: 0.8837 - age_output_accuracy: 0.0350\n",
            "Epoch 1: val_age_output_loss improved from 97.34132 to 85.24560, saving model to drive/MyDrive/model_03_weights.h5\n",
            "445/445 [==============================] - 41s 86ms/step - loss: 79.8316 - gender_output_loss: 0.2739 - age_output_loss: 79.5577 - gender_output_accuracy: 0.8839 - age_output_accuracy: 0.0349 - val_loss: 85.5560 - val_gender_output_loss: 0.3104 - val_age_output_loss: 85.2456 - val_gender_output_accuracy: 0.8709 - val_age_output_accuracy: 0.0468\n",
            "Epoch 2/10\n",
            "444/445 [============================>.] - ETA: 0s - loss: 75.6822 - gender_output_loss: 0.2638 - age_output_loss: 75.4184 - gender_output_accuracy: 0.8849 - age_output_accuracy: 0.0339\n",
            "Epoch 2: val_age_output_loss did not improve from 85.24560\n",
            "445/445 [==============================] - 36s 80ms/step - loss: 75.7981 - gender_output_loss: 0.2636 - age_output_loss: 75.5344 - gender_output_accuracy: 0.8850 - age_output_accuracy: 0.0340 - val_loss: 87.4131 - val_gender_output_loss: 0.3038 - val_age_output_loss: 87.1092 - val_gender_output_accuracy: 0.8808 - val_age_output_accuracy: 0.0506\n",
            "Epoch 3/10\n",
            "444/445 [============================>.] - ETA: 0s - loss: 74.7678 - gender_output_loss: 0.2632 - age_output_loss: 74.5046 - gender_output_accuracy: 0.8883 - age_output_accuracy: 0.0348\n",
            "Epoch 3: val_age_output_loss did not improve from 85.24560\n",
            "445/445 [==============================] - 38s 85ms/step - loss: 74.7868 - gender_output_loss: 0.2630 - age_output_loss: 74.5238 - gender_output_accuracy: 0.8884 - age_output_accuracy: 0.0349 - val_loss: 86.7838 - val_gender_output_loss: 0.2925 - val_age_output_loss: 86.4913 - val_gender_output_accuracy: 0.8785 - val_age_output_accuracy: 0.0462\n",
            "Epoch 4/10\n",
            "444/445 [============================>.] - ETA: 0s - loss: 73.4068 - gender_output_loss: 0.2584 - age_output_loss: 73.1485 - gender_output_accuracy: 0.8877 - age_output_accuracy: 0.0334\n",
            "Epoch 4: val_age_output_loss did not improve from 85.24560\n",
            "445/445 [==============================] - 36s 80ms/step - loss: 73.3637 - gender_output_loss: 0.2583 - age_output_loss: 73.1055 - gender_output_accuracy: 0.8878 - age_output_accuracy: 0.0335 - val_loss: 86.9875 - val_gender_output_loss: 0.2938 - val_age_output_loss: 86.6936 - val_gender_output_accuracy: 0.8758 - val_age_output_accuracy: 0.0470\n",
            "Epoch 5/10\n",
            "444/445 [============================>.] - ETA: 0s - loss: 71.7359 - gender_output_loss: 0.2583 - age_output_loss: 71.4777 - gender_output_accuracy: 0.8865 - age_output_accuracy: 0.0339\n",
            "Epoch 5: val_age_output_loss improved from 85.24560 to 82.07895, saving model to drive/MyDrive/model_03_weights.h5\n",
            "445/445 [==============================] - 40s 90ms/step - loss: 71.6882 - gender_output_loss: 0.2580 - age_output_loss: 71.4302 - gender_output_accuracy: 0.8867 - age_output_accuracy: 0.0339 - val_loss: 82.3909 - val_gender_output_loss: 0.3119 - val_age_output_loss: 82.0789 - val_gender_output_accuracy: 0.8764 - val_age_output_accuracy: 0.0504\n",
            "Epoch 6/10\n",
            "444/445 [============================>.] - ETA: 0s - loss: 70.1402 - gender_output_loss: 0.2506 - age_output_loss: 69.8896 - gender_output_accuracy: 0.8945 - age_output_accuracy: 0.0334\n",
            "Epoch 6: val_age_output_loss did not improve from 82.07895\n",
            "445/445 [==============================] - 36s 80ms/step - loss: 70.1209 - gender_output_loss: 0.2504 - age_output_loss: 69.8704 - gender_output_accuracy: 0.8946 - age_output_accuracy: 0.0334 - val_loss: 84.3270 - val_gender_output_loss: 0.3082 - val_age_output_loss: 84.0188 - val_gender_output_accuracy: 0.8770 - val_age_output_accuracy: 0.0506\n",
            "Epoch 7/10\n",
            "444/445 [============================>.] - ETA: 0s - loss: 70.1644 - gender_output_loss: 0.2493 - age_output_loss: 69.9151 - gender_output_accuracy: 0.8924 - age_output_accuracy: 0.0339\n",
            "Epoch 7: val_age_output_loss did not improve from 82.07895\n",
            "445/445 [==============================] - 38s 86ms/step - loss: 70.1502 - gender_output_loss: 0.2491 - age_output_loss: 69.9010 - gender_output_accuracy: 0.8925 - age_output_accuracy: 0.0339 - val_loss: 84.1567 - val_gender_output_loss: 0.3037 - val_age_output_loss: 83.8530 - val_gender_output_accuracy: 0.8772 - val_age_output_accuracy: 0.0487\n",
            "Epoch 8/10\n",
            "444/445 [============================>.] - ETA: 0s - loss: 68.1142 - gender_output_loss: 0.2518 - age_output_loss: 67.8624 - gender_output_accuracy: 0.8917 - age_output_accuracy: 0.0350\n",
            "Epoch 8: val_age_output_loss did not improve from 82.07895\n",
            "445/445 [==============================] - 38s 86ms/step - loss: 68.1006 - gender_output_loss: 0.2517 - age_output_loss: 67.8488 - gender_output_accuracy: 0.8918 - age_output_accuracy: 0.0350 - val_loss: 83.9870 - val_gender_output_loss: 0.3014 - val_age_output_loss: 83.6856 - val_gender_output_accuracy: 0.8789 - val_age_output_accuracy: 0.0472\n",
            "Epoch 9/10\n",
            "444/445 [============================>.] - ETA: 0s - loss: 66.7188 - gender_output_loss: 0.2508 - age_output_loss: 66.4679 - gender_output_accuracy: 0.8934 - age_output_accuracy: 0.0339\n",
            "Epoch 9: val_age_output_loss did not improve from 82.07895\n",
            "445/445 [==============================] - 36s 80ms/step - loss: 66.6893 - gender_output_loss: 0.2505 - age_output_loss: 66.4387 - gender_output_accuracy: 0.8936 - age_output_accuracy: 0.0340 - val_loss: 82.4864 - val_gender_output_loss: 0.3065 - val_age_output_loss: 82.1799 - val_gender_output_accuracy: 0.8794 - val_age_output_accuracy: 0.0475\n",
            "Epoch 10/10\n",
            "444/445 [============================>.] - ETA: 0s - loss: 66.0990 - gender_output_loss: 0.2514 - age_output_loss: 65.8476 - gender_output_accuracy: 0.8925 - age_output_accuracy: 0.0349\n",
            "Epoch 10: val_age_output_loss did not improve from 82.07895\n",
            "445/445 [==============================] - 36s 82ms/step - loss: 66.0650 - gender_output_loss: 0.2512 - age_output_loss: 65.8137 - gender_output_accuracy: 0.8926 - age_output_accuracy: 0.0349 - val_loss: 84.4744 - val_gender_output_loss: 0.2985 - val_age_output_loss: 84.1759 - val_gender_output_accuracy: 0.8802 - val_age_output_accuracy: 0.0456\n"
          ]
        }
      ]
    },
    {
      "cell_type": "code",
      "source": [],
      "metadata": {
        "id": "8JOMmWkZDwwu"
      },
      "execution_count": 29,
      "outputs": []
    },
    {
      "cell_type": "code",
      "source": [],
      "metadata": {
        "id": "WbFjorGPDbZJ"
      },
      "execution_count": 29,
      "outputs": []
    },
    {
      "cell_type": "code",
      "source": [
        "true_gender_labels = y_test[:,0]\n",
        "true_age_labels = y_test[:,1]"
      ],
      "metadata": {
        "id": "aVb3fsyuTi7S"
      },
      "execution_count": 30,
      "outputs": []
    },
    {
      "cell_type": "code",
      "source": [
        "from sklearn.metrics import mean_absolute_error, accuracy_score, mean_squared_error\n",
        "\n",
        "def evaluate_mae(model, dataset, y_true_age, y_true_gender):\n",
        "    age_predictions = []\n",
        "\n",
        "    # for batch in dataset:\n",
        "    #   preds = model.predict(batch)\n",
        "    #   age_predictions.extend(preds[1].reshape(-1))\n",
        "\n",
        "    # preds = model.predict(dataset)\n",
        "    # for i in range(len(dataset)):\n",
        "    #   batch_preds = preds[i]\n",
        "    #   age_predictions.extend(batch_preds[1].reshape(-1))\n",
        "\n",
        "    preds = model.predict(dataset)\n",
        "\n",
        "    # Extend age_predictions with the predictions for age\n",
        "    age_predictions = preds[1].reshape(-1)\n",
        "\n",
        "    gender_predictions = preds[0].reshape(-1)\n",
        "    gender_predictions = [1 if pred>=0.5 else 0 for pred in gender_predictions]\n",
        "    mae = mean_absolute_error(y_true_age, age_predictions)\n",
        "    acc = accuracy_score(y_true_gender, gender_predictions)\n",
        "\n",
        "    return {\"Age_Prediction_MAE\" : mae, \"Gender_Prediction_Accuracy\" : acc}\n",
        "\n"
      ],
      "metadata": {
        "id": "vlA9eTexN2hx"
      },
      "execution_count": 31,
      "outputs": []
    },
    {
      "cell_type": "code",
      "source": [
        "import pandas as pd\n",
        "evaluate_mae(model, test_dataset, np.array(true_age_labels), np.array(true_gender_labels))"
      ],
      "metadata": {
        "colab": {
          "base_uri": "https://localhost:8080/"
        },
        "id": "RcHH33_VOLwN",
        "outputId": "cb9f46cf-8e09-43f5-a7f3-366dc1e4e7b8"
      },
      "execution_count": 32,
      "outputs": [
        {
          "output_type": "stream",
          "name": "stdout",
          "text": [
            "149/149 [==============================] - 3s 21ms/step\n"
          ]
        },
        {
          "output_type": "execute_result",
          "data": {
            "text/plain": [
              "{'Age_Prediction_MAE': 6.628495818196835,\n",
              " 'Gender_Prediction_Accuracy': 0.8914189331646637}"
            ]
          },
          "metadata": {},
          "execution_count": 32
        }
      ]
    },
    {
      "cell_type": "code",
      "source": [
        "from sklearn.metrics import mean_absolute_error, accuracy_score, mean_squared_error\n",
        "\n",
        "def evaluate_mse(model, dataset, y_true_age, y_true_gender):\n",
        "    age_predictions = []\n",
        "\n",
        "    # for batch in dataset:\n",
        "    #   preds = model.predict(batch)\n",
        "    #   age_predictions.extend(preds[1].reshape(-1))\n",
        "\n",
        "    # preds = model.predict(dataset)\n",
        "    # for i in range(len(dataset)):\n",
        "    #   batch_preds = preds[i]\n",
        "    #   age_predictions.extend(batch_preds[1].reshape(-1))\n",
        "\n",
        "    preds = model.predict(dataset)\n",
        "\n",
        "    # Extend age_predictions with the predictions for age\n",
        "    age_predictions = preds[1].reshape(-1)\n",
        "\n",
        "    gender_predictions = preds[0].reshape(-1)\n",
        "    gender_predictions = [1 if pred>=0.5 else 0 for pred in gender_predictions]\n",
        "    mae = mean_squared_error(y_true_age, age_predictions)\n",
        "    acc = accuracy_score(y_true_gender, gender_predictions)\n",
        "\n",
        "    return {\"Age_Prediction_MSE\" : mae, \"Gender_Prediction_Accuracy\" : acc}\n",
        "\n"
      ],
      "metadata": {
        "id": "7787WYR1dctb"
      },
      "execution_count": 33,
      "outputs": []
    },
    {
      "cell_type": "code",
      "source": [
        "evaluate_mse(model, test_dataset, np.array(true_age_labels), np.array(true_gender_labels))"
      ],
      "metadata": {
        "colab": {
          "base_uri": "https://localhost:8080/"
        },
        "id": "luzNiRTqdhDb",
        "outputId": "8f3d121d-f66e-4be1-cdf5-9d31d5aa199d"
      },
      "execution_count": 34,
      "outputs": [
        {
          "output_type": "stream",
          "name": "stdout",
          "text": [
            "149/149 [==============================] - 4s 29ms/step\n"
          ]
        },
        {
          "output_type": "execute_result",
          "data": {
            "text/plain": [
              "{'Age_Prediction_MSE': 83.11846154188979,\n",
              " 'Gender_Prediction_Accuracy': 0.89078642209572}"
            ]
          },
          "metadata": {},
          "execution_count": 34
        }
      ]
    },
    {
      "cell_type": "code",
      "source": [
        "history = model.fit(train_dataset, batch_size = 32, epochs=fine_tune_epochs, validation_data = validation_dataset, callbacks=[checkpoint_callback])"
      ],
      "metadata": {
        "colab": {
          "base_uri": "https://localhost:8080/"
        },
        "id": "bV1r3pPwK9kq",
        "outputId": "1c853bbb-0a74-4174-fe54-b24d43398834"
      },
      "execution_count": 35,
      "outputs": [
        {
          "output_type": "stream",
          "name": "stdout",
          "text": [
            "Epoch 1/10\n",
            "444/445 [============================>.] - ETA: 0s - loss: 66.1486 - gender_output_loss: 0.2461 - age_output_loss: 65.9024 - gender_output_accuracy: 0.8944 - age_output_accuracy: 0.0349\n",
            "Epoch 1: val_age_output_loss did not improve from 82.07895\n",
            "445/445 [==============================] - 38s 86ms/step - loss: 66.1467 - gender_output_loss: 0.2460 - age_output_loss: 65.9007 - gender_output_accuracy: 0.8945 - age_output_accuracy: 0.0349 - val_loss: 85.5026 - val_gender_output_loss: 0.3065 - val_age_output_loss: 85.1961 - val_gender_output_accuracy: 0.8817 - val_age_output_accuracy: 0.0494\n",
            "Epoch 2/10\n",
            "444/445 [============================>.] - ETA: 0s - loss: 65.9289 - gender_output_loss: 0.2428 - age_output_loss: 65.6861 - gender_output_accuracy: 0.9001 - age_output_accuracy: 0.0363\n",
            "Epoch 2: val_age_output_loss did not improve from 82.07895\n",
            "445/445 [==============================] - 36s 80ms/step - loss: 65.8960 - gender_output_loss: 0.2426 - age_output_loss: 65.6534 - gender_output_accuracy: 0.9002 - age_output_accuracy: 0.0363 - val_loss: 84.1208 - val_gender_output_loss: 0.3184 - val_age_output_loss: 83.8024 - val_gender_output_accuracy: 0.8777 - val_age_output_accuracy: 0.0464\n",
            "Epoch 3/10\n",
            "444/445 [============================>.] - ETA: 0s - loss: 64.5405 - gender_output_loss: 0.2379 - age_output_loss: 64.3027 - gender_output_accuracy: 0.8986 - age_output_accuracy: 0.0358\n",
            "Epoch 3: val_age_output_loss did not improve from 82.07895\n",
            "445/445 [==============================] - 36s 80ms/step - loss: 64.5184 - gender_output_loss: 0.2377 - age_output_loss: 64.2808 - gender_output_accuracy: 0.8987 - age_output_accuracy: 0.0357 - val_loss: 83.2018 - val_gender_output_loss: 0.3066 - val_age_output_loss: 82.8952 - val_gender_output_accuracy: 0.8779 - val_age_output_accuracy: 0.0506\n",
            "Epoch 4/10\n",
            "444/445 [============================>.] - ETA: 0s - loss: 64.6198 - gender_output_loss: 0.2445 - age_output_loss: 64.3752 - gender_output_accuracy: 0.8948 - age_output_accuracy: 0.0369\n",
            "Epoch 4: val_age_output_loss did not improve from 82.07895\n",
            "445/445 [==============================] - 39s 87ms/step - loss: 64.5805 - gender_output_loss: 0.2443 - age_output_loss: 64.3361 - gender_output_accuracy: 0.8950 - age_output_accuracy: 0.0368 - val_loss: 85.6953 - val_gender_output_loss: 0.3154 - val_age_output_loss: 85.3798 - val_gender_output_accuracy: 0.8789 - val_age_output_accuracy: 0.0435\n",
            "Epoch 5/10\n",
            "444/445 [============================>.] - ETA: 0s - loss: 61.9257 - gender_output_loss: 0.2383 - age_output_loss: 61.6874 - gender_output_accuracy: 0.9005 - age_output_accuracy: 0.0352\n",
            "Epoch 5: val_age_output_loss did not improve from 82.07895\n",
            "445/445 [==============================] - 36s 81ms/step - loss: 61.9105 - gender_output_loss: 0.2381 - age_output_loss: 61.6724 - gender_output_accuracy: 0.9006 - age_output_accuracy: 0.0352 - val_loss: 83.9677 - val_gender_output_loss: 0.3177 - val_age_output_loss: 83.6500 - val_gender_output_accuracy: 0.8842 - val_age_output_accuracy: 0.0462\n",
            "Epoch 6/10\n",
            "444/445 [============================>.] - ETA: 0s - loss: 61.8615 - gender_output_loss: 0.2381 - age_output_loss: 61.6234 - gender_output_accuracy: 0.9001 - age_output_accuracy: 0.0362\n",
            "Epoch 6: val_age_output_loss did not improve from 82.07895\n",
            "445/445 [==============================] - 39s 88ms/step - loss: 61.8568 - gender_output_loss: 0.2380 - age_output_loss: 61.6189 - gender_output_accuracy: 0.9002 - age_output_accuracy: 0.0362 - val_loss: 83.1429 - val_gender_output_loss: 0.3109 - val_age_output_loss: 82.8320 - val_gender_output_accuracy: 0.8785 - val_age_output_accuracy: 0.0481\n",
            "Epoch 7/10\n",
            "444/445 [============================>.] - ETA: 0s - loss: 60.8747 - gender_output_loss: 0.2327 - age_output_loss: 60.6420 - gender_output_accuracy: 0.9007 - age_output_accuracy: 0.0374\n",
            "Epoch 7: val_age_output_loss did not improve from 82.07895\n",
            "445/445 [==============================] - 36s 80ms/step - loss: 60.8565 - gender_output_loss: 0.2325 - age_output_loss: 60.6240 - gender_output_accuracy: 0.9008 - age_output_accuracy: 0.0373 - val_loss: 84.6429 - val_gender_output_loss: 0.3140 - val_age_output_loss: 84.3289 - val_gender_output_accuracy: 0.8836 - val_age_output_accuracy: 0.0496\n",
            "Epoch 8/10\n",
            "444/445 [============================>.] - ETA: 0s - loss: 60.4600 - gender_output_loss: 0.2360 - age_output_loss: 60.2241 - gender_output_accuracy: 0.8997 - age_output_accuracy: 0.0362\n",
            "Epoch 8: val_age_output_loss did not improve from 82.07895\n",
            "445/445 [==============================] - 35s 80ms/step - loss: 60.4681 - gender_output_loss: 0.2359 - age_output_loss: 60.2322 - gender_output_accuracy: 0.8997 - age_output_accuracy: 0.0361 - val_loss: 83.5920 - val_gender_output_loss: 0.3130 - val_age_output_loss: 83.2790 - val_gender_output_accuracy: 0.8785 - val_age_output_accuracy: 0.0500\n",
            "Epoch 9/10\n",
            "445/445 [==============================] - ETA: 0s - loss: 60.0183 - gender_output_loss: 0.2308 - age_output_loss: 59.7875 - gender_output_accuracy: 0.9039 - age_output_accuracy: 0.0379\n",
            "Epoch 9: val_age_output_loss did not improve from 82.07895\n",
            "445/445 [==============================] - 48s 107ms/step - loss: 60.0183 - gender_output_loss: 0.2308 - age_output_loss: 59.7875 - gender_output_accuracy: 0.9039 - age_output_accuracy: 0.0379 - val_loss: 83.6888 - val_gender_output_loss: 0.3309 - val_age_output_loss: 83.3579 - val_gender_output_accuracy: 0.8783 - val_age_output_accuracy: 0.0481\n",
            "Epoch 10/10\n",
            "444/445 [============================>.] - ETA: 0s - loss: 59.0688 - gender_output_loss: 0.2277 - age_output_loss: 58.8411 - gender_output_accuracy: 0.9060 - age_output_accuracy: 0.0360\n",
            "Epoch 10: val_age_output_loss did not improve from 82.07895\n",
            "445/445 [==============================] - 39s 87ms/step - loss: 59.0680 - gender_output_loss: 0.2275 - age_output_loss: 58.8405 - gender_output_accuracy: 0.9061 - age_output_accuracy: 0.0360 - val_loss: 82.6400 - val_gender_output_loss: 0.3233 - val_age_output_loss: 82.3167 - val_gender_output_accuracy: 0.8783 - val_age_output_accuracy: 0.0487\n"
          ]
        }
      ]
    },
    {
      "cell_type": "markdown",
      "source": [
        "## Evaluate for test dataset"
      ],
      "metadata": {
        "id": "SzzqBV4riqI4"
      }
    },
    {
      "cell_type": "code",
      "source": [
        "evaluate_mae(model, test_dataset, np.array(true_age_labels), np.array(true_gender_labels))"
      ],
      "metadata": {
        "colab": {
          "base_uri": "https://localhost:8080/"
        },
        "id": "6WTUwkVVLHbv",
        "outputId": "3a010100-40df-40fe-c645-ecc9d42a086f"
      },
      "execution_count": 36,
      "outputs": [
        {
          "output_type": "stream",
          "name": "stdout",
          "text": [
            "149/149 [==============================] - 5s 34ms/step\n"
          ]
        },
        {
          "output_type": "execute_result",
          "data": {
            "text/plain": [
              "{'Age_Prediction_MAE': 6.565030603890879,\n",
              " 'Gender_Prediction_Accuracy': 0.8901539110267763}"
            ]
          },
          "metadata": {},
          "execution_count": 36
        }
      ]
    },
    {
      "cell_type": "code",
      "source": [
        "evaluate_mse(model, test_dataset, np.array(true_age_labels), np.array(true_gender_labels))"
      ],
      "metadata": {
        "colab": {
          "base_uri": "https://localhost:8080/"
        },
        "id": "-Zg6Hk_Nd2HQ",
        "outputId": "b33b4598-201a-418a-f018-9e2b13c5ac0a"
      },
      "execution_count": 37,
      "outputs": [
        {
          "output_type": "stream",
          "name": "stdout",
          "text": [
            "149/149 [==============================] - 4s 24ms/step\n"
          ]
        },
        {
          "output_type": "execute_result",
          "data": {
            "text/plain": [
              "{'Age_Prediction_MSE': 82.99375343062283,\n",
              " 'Gender_Prediction_Accuracy': 0.888045540796964}"
            ]
          },
          "metadata": {},
          "execution_count": 37
        }
      ]
    },
    {
      "cell_type": "markdown",
      "source": [
        "## Evaluate for train dataset"
      ],
      "metadata": {
        "id": "yWftD0-DND8B"
      }
    },
    {
      "cell_type": "code",
      "source": [
        "true_train_age_labels =y_train[:,1]\n",
        "true_train_gender_labels = y_train[:,0]"
      ],
      "metadata": {
        "id": "aq2gDlXdi6Nt"
      },
      "execution_count": 39,
      "outputs": []
    },
    {
      "cell_type": "code",
      "source": [
        "evaluate_mae(model, train_dataset, np.array(true_train_age_labels), np.array(true_train_gender_labels))"
      ],
      "metadata": {
        "colab": {
          "base_uri": "https://localhost:8080/"
        },
        "id": "SjKcGPDJivdb",
        "outputId": "8d1dea35-879d-40a7-d91b-96df88aa6fd0"
      },
      "execution_count": 40,
      "outputs": [
        {
          "output_type": "stream",
          "name": "stdout",
          "text": [
            "445/445 [==============================] - 14s 32ms/step\n"
          ]
        },
        {
          "output_type": "execute_result",
          "data": {
            "text/plain": [
              "{'Age_Prediction_MAE': 4.594811674333162,\n",
              " 'Gender_Prediction_Accuracy': 0.9240719910011248}"
            ]
          },
          "metadata": {},
          "execution_count": 40
        }
      ]
    },
    {
      "cell_type": "code",
      "source": [
        "evaluate_mse(model, train_dataset, np.array(true_train_age_labels), np.array(true_train_gender_labels))"
      ],
      "metadata": {
        "colab": {
          "base_uri": "https://localhost:8080/"
        },
        "id": "eclgEYAyjMTw",
        "outputId": "53a85c87-babc-480e-f4ca-2ca3c068a914"
      },
      "execution_count": 41,
      "outputs": [
        {
          "output_type": "stream",
          "name": "stdout",
          "text": [
            "445/445 [==============================] - 9s 21ms/step\n"
          ]
        },
        {
          "output_type": "execute_result",
          "data": {
            "text/plain": [
              "{'Age_Prediction_MSE': 37.89706155285644,\n",
              " 'Gender_Prediction_Accuracy': 0.9254780652418447}"
            ]
          },
          "metadata": {},
          "execution_count": 41
        }
      ]
    },
    {
      "cell_type": "markdown",
      "source": [
        "## Evaluate for validation_dataset"
      ],
      "metadata": {
        "id": "AVnfWP6HjNsb"
      }
    },
    {
      "cell_type": "code",
      "source": [
        "true_valid_age_labels =y_valid[:,1]\n",
        "true_valid_gender_labels = y_valid[:,0]"
      ],
      "metadata": {
        "id": "zSMszHiGjg_i"
      },
      "execution_count": 42,
      "outputs": []
    },
    {
      "cell_type": "code",
      "source": [
        "evaluate_mae(model, validation_dataset, np.array(true_valid_age_labels), np.array(true_valid_gender_labels))"
      ],
      "metadata": {
        "colab": {
          "base_uri": "https://localhost:8080/"
        },
        "id": "072dSZSAjqMO",
        "outputId": "c22f7ea5-fb41-48b0-e6c3-d9a19cfa2262"
      },
      "execution_count": 44,
      "outputs": [
        {
          "output_type": "stream",
          "name": "stdout",
          "text": [
            "149/149 [==============================] - 6s 41ms/step\n"
          ]
        },
        {
          "output_type": "execute_result",
          "data": {
            "text/plain": [
              "{'Age_Prediction_MAE': 6.50179194535316,\n",
              " 'Gender_Prediction_Accuracy': 0.8749209027631302}"
            ]
          },
          "metadata": {},
          "execution_count": 44
        }
      ]
    },
    {
      "cell_type": "code",
      "source": [
        "evaluate_mse(model, validation_dataset, np.array(true_valid_age_labels), np.array(true_valid_gender_labels))"
      ],
      "metadata": {
        "colab": {
          "base_uri": "https://localhost:8080/"
        },
        "id": "U0f08wx3jtfa",
        "outputId": "a296d836-d0e3-4608-d475-7b9db5e2391c"
      },
      "execution_count": 46,
      "outputs": [
        {
          "output_type": "stream",
          "name": "stdout",
          "text": [
            "149/149 [==============================] - 3s 22ms/step\n"
          ]
        },
        {
          "output_type": "execute_result",
          "data": {
            "text/plain": [
              "{'Age_Prediction_MSE': 83.34379577163082,\n",
              " 'Gender_Prediction_Accuracy': 0.8759755325880616}"
            ]
          },
          "metadata": {},
          "execution_count": 46
        }
      ]
    },
    {
      "cell_type": "code",
      "source": [],
      "metadata": {
        "id": "ydjwVWaxjunV"
      },
      "execution_count": null,
      "outputs": []
    }
  ]
}